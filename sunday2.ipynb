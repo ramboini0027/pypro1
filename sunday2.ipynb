{
 "cells": [
  {
   "cell_type": "code",
   "execution_count": 1,
   "metadata": {},
   "outputs": [
    {
     "name": "stdout",
     "output_type": "stream",
     "text": [
      "negative\n"
     ]
    }
   ],
   "source": [
    "num=int(input())\n",
    "if num>0:\n",
    "    print('positive')\n",
    "else:\n",
    "    print('negative')"
   ]
  },
  {
   "cell_type": "code",
   "execution_count": 5,
   "metadata": {},
   "outputs": [
    {
     "name": "stdout",
     "output_type": "stream",
     "text": [
      "even\n"
     ]
    }
   ],
   "source": [
    "num=int(input())\n",
    "if num%2==0:\n",
    "    print('even')\n",
    "else:\n",
    "    print('odd')"
   ]
  },
  {
   "cell_type": "code",
   "execution_count": 7,
   "metadata": {},
   "outputs": [
    {
     "name": "stdout",
     "output_type": "stream",
     "text": [
      "8 not greater than 10\n"
     ]
    }
   ],
   "source": [
    "num=int(input())\n",
    "if num>10 :\n",
    "    print('greater ')\n",
    "\n",
    "else:\n",
    "    print(num,'not greater than 10')"
   ]
  },
  {
   "cell_type": "code",
   "execution_count": 8,
   "metadata": {},
   "outputs": [
    {
     "name": "stdout",
     "output_type": "stream",
     "text": [
      "b\n"
     ]
    }
   ],
   "source": [
    "ch=int(input())\n",
    "if ch>45 and ch<125:\n",
    "    print(chr(ch))\n",
    "else:\n",
    "    print(ch)"
   ]
  },
  {
   "cell_type": "code",
   "execution_count": 9,
   "metadata": {},
   "outputs": [
    {
     "name": "stdout",
     "output_type": "stream",
     "text": [
      "GOOD MORNING\n"
     ]
    }
   ],
   "source": [
    "a=int(input())\n",
    "b=int(input())\n",
    "if a%3==0 and b%3==0 and a%5==0 and b%5==0:\n",
    "    print('GOOD MORNING')\n",
    "else:\n",
    "    print('GOOD EVENING')"
   ]
  },
  {
   "cell_type": "code",
   "execution_count": 1,
   "metadata": {},
   "outputs": [
    {
     "name": "stdout",
     "output_type": "stream",
     "text": [
      "5\n",
      "positive\n"
     ]
    }
   ],
   "source": [
    "num=int(input())\n",
    "print(num)\n",
    "if num>0:\n",
    "    print('positive')\n",
    "else:\n",
    "    print('negative')"
   ]
  },
  {
   "cell_type": "code",
   "execution_count": 2,
   "metadata": {},
   "outputs": [
    {
     "name": "stdout",
     "output_type": "stream",
     "text": [
      "22\n",
      "even\n"
     ]
    }
   ],
   "source": [
    "num=int(input())\n",
    "print(num)\n",
    "if num%2==0:\n",
    "    print('even')\n",
    "else:\n",
    "    print('odd')"
   ]
  },
  {
   "cell_type": "code",
   "execution_count": 3,
   "metadata": {},
   "outputs": [
    {
     "name": "stdout",
     "output_type": "stream",
     "text": [
      "258\n",
      "greater\n"
     ]
    }
   ],
   "source": [
    "num=int(input())\n",
    "print(num)\n",
    "if num>10:\n",
    "    print('greater')\n",
    "else:\n",
    "    print('not greater')"
   ]
  },
  {
   "cell_type": "code",
   "execution_count": 4,
   "metadata": {},
   "outputs": [
    {
     "name": "stdout",
     "output_type": "stream",
     "text": [
      "65\n",
      "A\n"
     ]
    }
   ],
   "source": [
    "num=int(input())\n",
    "print(num)\n",
    "if num>45 and num<125:\n",
    "    print(chr(num))\n",
    "else:\n",
    "    print('not between')\n"
   ]
  },
  {
   "cell_type": "code",
   "execution_count": 5,
   "metadata": {},
   "outputs": [
    {
     "name": "stdout",
     "output_type": "stream",
     "text": [
      "good morning\n"
     ]
    }
   ],
   "source": [
    "num1=int(input())\n",
    "num2=int(input())\n",
    "if num1%3==0 and num1%5==0 and  num2%3==0 and num2%5==0:\n",
    "    print('good morning')\n",
    "else:\n",
    "    print('good evening')"
   ]
  },
  {
   "cell_type": "code",
   "execution_count": 6,
   "metadata": {},
   "outputs": [
    {
     "name": "stdout",
     "output_type": "stream",
     "text": [
      "25 0\n"
     ]
    }
   ],
   "source": [
    "num1=int(input())\n",
    "num2=int(input())\n",
    "if num1==num2:\n",
    "    num3=num1*num2\n",
    "    num4=num1%num2\n",
    "    print(num3,num4)\n",
    "else:\n",
    "    print('not equal')"
   ]
  },
  {
   "cell_type": "code",
   "execution_count": 7,
   "metadata": {},
   "outputs": [
    {
     "name": "stdout",
     "output_type": "stream",
     "text": [
      "5 9\n",
      "num2 is greater\n"
     ]
    }
   ],
   "source": [
    "num1=int(input())\n",
    "num2=int(input())\n",
    "print(num1,num2)\n",
    "if num1>num2:\n",
    "    print('num1 is greater')\n",
    "else:\n",
    "    print('num2 is greater')"
   ]
  },
  {
   "cell_type": "code",
   "execution_count": 8,
   "metadata": {},
   "outputs": [
    {
     "name": "stdout",
     "output_type": "stream",
     "text": [
      "22\n",
      "greater\n"
     ]
    }
   ],
   "source": [
    "num=int(input())\n",
    "if num>10:\n",
    "    print(num)\n",
    "    print('greater')\n",
    "else:\n",
    "    print(num)\n",
    "    print('not greater')\n",
    "        "
   ]
  },
  {
   "cell_type": "code",
   "execution_count": 9,
   "metadata": {},
   "outputs": [
    {
     "name": "stdout",
     "output_type": "stream",
     "text": [
      "27\n",
      "6\n"
     ]
    }
   ],
   "source": [
    "num=int(input())\n",
    "print(num)\n",
    "if num>21:\n",
    "    print(num-21)\n",
    "else:\n",
    "    print((num-21)**2)"
   ]
  },
  {
   "cell_type": "code",
   "execution_count": 10,
   "metadata": {},
   "outputs": [
    {
     "name": "stdout",
     "output_type": "stream",
     "text": [
      "5 6\n",
      "num1 is lesser\n"
     ]
    }
   ],
   "source": [
    "num1=int(input())\n",
    "num2=int(input())\n",
    "print(num1,num2)\n",
    "if num1<num2:\n",
    "    print('num1 is lesser')\n",
    "else:\n",
    "    print('num2 is lesser')"
   ]
  },
  {
   "cell_type": "code",
   "execution_count": 11,
   "metadata": {},
   "outputs": [
    {
     "name": "stdout",
     "output_type": "stream",
     "text": [
      "268\n",
      "278\n"
     ]
    }
   ],
   "source": [
    "num=int(input())\n",
    "print(num)\n",
    "if num%2==0:\n",
    "    num1=num+10\n",
    "    print(num1)\n",
    "else:\n",
    "    num2=num+1\n",
    "    print(num2)"
   ]
  },
  {
   "cell_type": "code",
   "execution_count": 12,
   "metadata": {},
   "outputs": [
    {
     "name": "stdout",
     "output_type": "stream",
     "text": [
      "512\n"
     ]
    }
   ],
   "source": [
    "num=int(input())\n",
    "if num%3==0:\n",
    "    print(num)\n",
    "else:\n",
    "    print(num**3)"
   ]
  },
  {
   "cell_type": "code",
   "execution_count": 13,
   "metadata": {},
   "outputs": [
    {
     "name": "stdout",
     "output_type": "stream",
     "text": [
      "['5', '5']\n"
     ]
    }
   ],
   "source": [
    "num=int(input())\n",
    "if num%3==0 and num%5==0:\n",
    "    print(num)\n",
    "else:\n",
    "    num1=list(str(num))\n",
    "    print(num1)"
   ]
  },
  {
   "cell_type": "code",
   "execution_count": 14,
   "metadata": {},
   "outputs": [
    {
     "name": "stdout",
     "output_type": "stream",
     "text": [
      "18\n",
      "324\n"
     ]
    }
   ],
   "source": [
    "num=int(input())\n",
    "print(num)\n",
    "if num>1 and num<19:\n",
    "    print(num**2)\n",
    "else:\n",
    "    print(num)\n",
    "    print(num**3)\n",
    "    "
   ]
  },
  {
   "cell_type": "code",
   "execution_count": 15,
   "metadata": {},
   "outputs": [
    {
     "name": "stdout",
     "output_type": "stream",
     "text": [
      "fail\n"
     ]
    }
   ],
   "source": [
    "marks=int(input())\n",
    "if marks>40:\n",
    "    print('pass')\n",
    "else:\n",
    "    print('fail')"
   ]
  },
  {
   "cell_type": "code",
   "execution_count": 16,
   "metadata": {},
   "outputs": [
    {
     "name": "stdout",
     "output_type": "stream",
     "text": [
      "49\n",
      "9\n"
     ]
    }
   ],
   "source": [
    "num=int(input())\n",
    "print(num)\n",
    "if num%2==0 and num>47 and num<58 and  num!=0:\n",
    "    print(chr(num))\n",
    "else:\n",
    "    print(num//5)"
   ]
  },
  {
   "cell_type": "code",
   "execution_count": 18,
   "metadata": {},
   "outputs": [
    {
     "name": "stdout",
     "output_type": "stream",
     "text": [
      "{122: 'ram'}\n"
     ]
    }
   ],
   "source": [
    "num=int(input())\n",
    "if num<125 and num>47 and num<125:\n",
    "    d={num:'ram'}\n",
    "    print(d) \n",
    "else:\n",
    "    print(list(str(num)))"
   ]
  },
  {
   "cell_type": "code",
   "execution_count": 19,
   "metadata": {},
   "outputs": [
    {
     "name": "stdout",
     "output_type": "stream",
     "text": [
      "alphabet\n"
     ]
    }
   ],
   "source": [
    "ch=input()\n",
    "if ch>='A' and ch<='Z' or ch>='a' and ch<='z':\n",
    "    print('alphabet')\n",
    "else:\n",
    "    print('not alphabet')"
   ]
  },
  {
   "cell_type": "code",
   "execution_count": 20,
   "metadata": {},
   "outputs": [
    {
     "name": "stdout",
     "output_type": "stream",
     "text": [
      "upper case\n"
     ]
    }
   ],
   "source": [
    "ch=input()\n",
    "if ch>='A' and ch<='Z':\n",
    "    print('upper case')\n",
    "else:\n",
    "    print(ch)\n",
    "    print('other character')"
   ]
  },
  {
   "cell_type": "code",
   "execution_count": 21,
   "metadata": {},
   "outputs": [
    {
     "name": "stdout",
     "output_type": "stream",
     "text": [
      "D\n",
      "d\n"
     ]
    }
   ],
   "source": [
    "ch=input()\n",
    "print(ch)\n",
    "if ch>='A' and ch<='Z':\n",
    "    ch1=ord(ch)+32\n",
    "    ch2=chr(ch1)\n",
    "    print(ch2)\n",
    "else:\n",
    "    print(ord(ch))"
   ]
  },
  {
   "cell_type": "code",
   "execution_count": 22,
   "metadata": {},
   "outputs": [
    {
     "name": "stdout",
     "output_type": "stream",
     "text": [
      "g\n",
      "G\n"
     ]
    }
   ],
   "source": [
    "ch=input()\n",
    "print(ch)\n",
    "if  ch>='a' and ch<='z':\n",
    "    ch1=ord(ch)-32\n",
    "    ch2=chr(ch1)\n",
    "    print(ch2)\n",
    "else:\n",
    "    ch>='A' and ch<='Z'\n",
    "    ch1=ord(ch)+32\n",
    "    ch2=chr(ch1)\n",
    "    print(ch2)\n"
   ]
  },
  {
   "cell_type": "code",
   "execution_count": 23,
   "metadata": {},
   "outputs": [
    {
     "ename": "TypeError",
     "evalue": "'str' object is not callable",
     "output_type": "error",
     "traceback": [
      "\u001b[1;31m---------------------------------------------------------------------------\u001b[0m",
      "\u001b[1;31mTypeError\u001b[0m                                 Traceback (most recent call last)",
      "Cell \u001b[1;32mIn[23], line 4\u001b[0m\n\u001b[0;32m      2\u001b[0m st1\u001b[38;5;241m=\u001b[39m\u001b[38;5;28mlen\u001b[39m(st)\n\u001b[0;32m      3\u001b[0m mid\u001b[38;5;241m=\u001b[39mst1\u001b[38;5;241m/\u001b[39m\u001b[38;5;241m/\u001b[39m\u001b[38;5;241m2\u001b[39m\n\u001b[1;32m----> 4\u001b[0m st3\u001b[38;5;241m=\u001b[39m\u001b[43mst\u001b[49m\u001b[43m(\u001b[49m\u001b[43mmid\u001b[49m\u001b[43m)\u001b[49m\n\u001b[0;32m      5\u001b[0m st2\u001b[38;5;241m=\u001b[39mst1[\u001b[38;5;241m0\u001b[39m]\n\u001b[0;32m      6\u001b[0m \u001b[38;5;28;01mif\u001b[39;00m \u001b[38;5;129;01mnot\u001b[39;00m ((st\u001b[38;5;241m>\u001b[39m\u001b[38;5;241m=\u001b[39m\u001b[38;5;124m'\u001b[39m\u001b[38;5;124mA\u001b[39m\u001b[38;5;124m'\u001b[39m \u001b[38;5;129;01mand\u001b[39;00m st\u001b[38;5;241m<\u001b[39m\u001b[38;5;241m=\u001b[39m\u001b[38;5;124m'\u001b[39m\u001b[38;5;124mZ\u001b[39m\u001b[38;5;124m'\u001b[39m) \u001b[38;5;129;01mor\u001b[39;00m (st\u001b[38;5;241m>\u001b[39m\u001b[38;5;241m=\u001b[39m\u001b[38;5;124m'\u001b[39m\u001b[38;5;124ma\u001b[39m\u001b[38;5;124m'\u001b[39m \u001b[38;5;129;01mand\u001b[39;00m  st\u001b[38;5;241m<\u001b[39m\u001b[38;5;241m=\u001b[39m\u001b[38;5;124m'\u001b[39m\u001b[38;5;124mz\u001b[39m\u001b[38;5;124m'\u001b[39m) \u001b[38;5;129;01mor\u001b[39;00m (st\u001b[38;5;241m>\u001b[39m\u001b[38;5;241m=\u001b[39m\u001b[38;5;124m'\u001b[39m\u001b[38;5;124m0\u001b[39m\u001b[38;5;124m'\u001b[39m \u001b[38;5;129;01mand\u001b[39;00m st\u001b[38;5;241m<\u001b[39m\u001b[38;5;241m=\u001b[39m\u001b[38;5;124m'\u001b[39m\u001b[38;5;124m9\u001b[39m\u001b[38;5;124m'\u001b[39m)):\n",
      "\u001b[1;31mTypeError\u001b[0m: 'str' object is not callable"
     ]
    }
   ],
   "source": [
    "st='*shiva'\n",
    "st1=len(st)\n",
    "mid=st1//2\n",
    "st3=st(mid)\n",
    "st2=st1[0]\n",
    "if not ((st>='A' and st<='Z') or (st>='a' and  st<='z') or (st>='0' and st<='9')):\n",
    "    print(st3)\n",
    "else:\n",
    "    rvst=st[::-1]\n",
    "\n",
    "    "
   ]
  },
  {
   "cell_type": "code",
   "execution_count": 24,
   "metadata": {},
   "outputs": [
    {
     "name": "stdout",
     "output_type": "stream",
     "text": [
      "vowel\n"
     ]
    }
   ],
   "source": [
    "ch=input()\n",
    "if ch in \"aeiouAEIOU\":\n",
    "    print('vowel')\n",
    "else:\n",
    "    print('consonant')"
   ]
  },
  {
   "cell_type": "code",
   "execution_count": 25,
   "metadata": {},
   "outputs": [
    {
     "name": "stdout",
     "output_type": "stream",
     "text": [
      "a\n"
     ]
    }
   ],
   "source": [
    "ch=input()\n",
    "if ch in 'aeiouAEIOU':\n",
    "    ch1=ord(ch)\n",
    "    ch2=chr(ch1+1)\n",
    "    print(ch2)\n",
    "else:\n",
    "    ch3=ord(ch)\n",
    "    ch4=chr(ch3-1)\n",
    "    print(ch4)"
   ]
  },
  {
   "cell_type": "code",
   "execution_count": 26,
   "metadata": {},
   "outputs": [
    {
     "name": "stdout",
     "output_type": "stream",
     "text": [
      "A\n",
      "a\n"
     ]
    }
   ],
   "source": [
    "ch=input()\n",
    "print(ch)\n",
    "if  ch>='a' and ch<='z':\n",
    "    ch1=ord(ch)-32\n",
    "    ch2=chr(ch1)\n",
    "    print(ch2)\n",
    "else:\n",
    "    ch>='A' and ch<='Z'\n",
    "    ch1=ord(ch)+32\n",
    "    ch2=chr(ch1)\n",
    "    print(ch2)"
   ]
  },
  {
   "cell_type": "code",
   "execution_count": 27,
   "metadata": {},
   "outputs": [
    {
     "name": "stdout",
     "output_type": "stream",
     "text": [
      "i\n"
     ]
    }
   ],
   "source": [
    "st=input()\n",
    "st1=len(st)\n",
    "if st1<3:\n",
    "    print(st)\n",
    "else:\n",
    "    print(st[2])"
   ]
  },
  {
   "cell_type": "code",
   "execution_count": 28,
   "metadata": {},
   "outputs": [
    {
     "name": "stdout",
     "output_type": "stream",
     "text": [
      "a\n",
      "97\n"
     ]
    }
   ],
   "source": [
    "ch=input()\n",
    "print(ch)\n",
    "if ch>='A' and ch<='Z':\n",
    "    ch1=ord(ch)+32\n",
    "    ch2=chr(ch1)\n",
    "    print(ch2)\n",
    "else:\n",
    "    print(ord(ch))"
   ]
  },
  {
   "cell_type": "code",
   "execution_count": 30,
   "metadata": {},
   "outputs": [
    {
     "name": "stdout",
     "output_type": "stream",
     "text": [
      "s\n",
      "alphabet\n",
      "s\n"
     ]
    }
   ],
   "source": [
    "st=input()\n",
    "st1=st[0]\n",
    "if st>='A' and st<='Z' or st>='a' and st<='z':\n",
    "    print(st1)  \n",
    "    print('alphabet')\n",
    "    print(st[::-1])\n",
    "else:\n",
    "    st2=len(st)\n",
    "    st3=st2//2\n",
    "    st4=st(st3)\n",
    "    print(st4)"
   ]
  },
  {
   "cell_type": "code",
   "execution_count": 31,
   "metadata": {},
   "outputs": [
    {
     "name": "stdout",
     "output_type": "stream",
     "text": [
      "d d\n"
     ]
    }
   ],
   "source": [
    "st=input()\n",
    "st1=len(st)\n",
    "if st1%2==0:\n",
    "    st2=('bye'+st)\n",
    "    print(st2)\n",
    "else:\n",
    "    print(st[0],st[-1])"
   ]
  },
  {
   "cell_type": "code",
   "execution_count": 35,
   "metadata": {},
   "outputs": [
    {
     "name": "stdout",
     "output_type": "stream",
     "text": [
      "hail258963\n"
     ]
    }
   ],
   "source": [
    "st= (input())\n",
    "if len(st)%2==0:\n",
    "    print(\"hail\"+st)"
   ]
  },
  {
   "cell_type": "code",
   "execution_count": 36,
   "metadata": {},
   "outputs": [
    {
     "name": "stdout",
     "output_type": "stream",
     "text": [
      "leep yaer\n"
     ]
    }
   ],
   "source": [
    "year=int(input())\n",
    "if year%4==0 and (year%100!=0 or year%400==0):\n",
    "    print('leep yaer')\n",
    "else:\n",
    "    print('not leep year')"
   ]
  },
  {
   "cell_type": "code",
   "execution_count": 37,
   "metadata": {},
   "outputs": [
    {
     "name": "stdout",
     "output_type": "stream",
     "text": [
      "8 9\n",
      "not greater\n"
     ]
    }
   ],
   "source": [
    "num1=int(input())\n",
    "num2=int(input())\n",
    "print(num1,num2)\n",
    "if num1>num2:\n",
    "    print('greater')\n",
    "else:\n",
    "    print('not greater')"
   ]
  },
  {
   "cell_type": "code",
   "execution_count": 38,
   "metadata": {},
   "outputs": [
    {
     "name": "stdout",
     "output_type": "stream",
     "text": [
      "avilable\n"
     ]
    }
   ],
   "source": [
    "ch=input()\n",
    "if ch in ('ram'):\n",
    "    print('avilable')\n",
    "else:\n",
    "    print('not avilable') "
   ]
  },
  {
   "cell_type": "code",
   "execution_count": 39,
   "metadata": {},
   "outputs": [
    {
     "name": "stdout",
     "output_type": "stream",
     "text": [
      "{1: '123', 2: '234', 3: '345'}\n"
     ]
    }
   ],
   "source": [
    "ch='5'\n",
    "d={1:'123',2:'234',3:'345'}\n",
    "if ch in d:\n",
    "    print(dict(ch))\n",
    "else:\n",
    "    \n",
    "    print(d)"
   ]
  },
  {
   "cell_type": "code",
   "execution_count": 41,
   "metadata": {},
   "outputs": [
    {
     "name": "stdout",
     "output_type": "stream",
     "text": [
      "{2, 5, 6, 7}\n"
     ]
    }
   ],
   "source": [
    "l={5,2,6}\n",
    "if type(l)==set:\n",
    "    l.add(7)\n",
    "    print(l)\n",
    "else:\n",
    "    print(set(l))"
   ]
  },
  {
   "cell_type": "code",
   "execution_count": 42,
   "metadata": {},
   "outputs": [
    {
     "name": "stdout",
     "output_type": "stream",
     "text": [
      "eligible\n"
     ]
    }
   ],
   "source": [
    "age=int(input())\n",
    "if age>18:\n",
    "    print('eligible')\n",
    "else:\n",
    "    print('not elgible')"
   ]
  },
  {
   "cell_type": "code",
   "execution_count": 43,
   "metadata": {},
   "outputs": [
    {
     "name": "stdout",
     "output_type": "stream",
     "text": [
      "7\n"
     ]
    }
   ],
   "source": [
    "num=int(input())\n",
    "if num >47 and num<58 and num !=0 or num%2==1:\n",
    "    print(chr(num))\n",
    "else:\n",
    "    print(num//5)"
   ]
  },
  {
   "cell_type": "code",
   "execution_count": 44,
   "metadata": {},
   "outputs": [
    {
     "name": "stdout",
     "output_type": "stream",
     "text": [
      "ram ram\n"
     ]
    }
   ],
   "source": [
    "st=input()\n",
    "st1=input()\n",
    "if len(st)==len(st1):\n",
    "    print(st,st1)\n",
    "else:\n",
    "    print(st,len(st))\n",
    "    print(st1,len(st1))"
   ]
  },
  {
   "cell_type": "code",
   "execution_count": 45,
   "metadata": {},
   "outputs": [
    {
     "name": "stdout",
     "output_type": "stream",
     "text": [
      "a c\n"
     ]
    }
   ],
   "source": [
    "a=['a','b','c']\n",
    "b=['a','b','c']\n",
    "if a is b:\n",
    "    c=len(b)\n",
    "    print(b[c])\n",
    "else:\n",
    "    print(a[0],a[-1]),id(a[0]),id(a[-1])"
   ]
  },
  {
   "cell_type": "code",
   "execution_count": 46,
   "metadata": {},
   "outputs": [
    {
     "name": "stdout",
     "output_type": "stream",
     "text": [
      "123564981235649812356498\n"
     ]
    }
   ],
   "source": [
    "st=input()\n",
    "if len(st)>10 and (ord(st[0]+ord(st[-1]))%5==0):\n",
    "    mid=len(st//2)\n",
    "    print(st[0],st[-1],st[mid])\n",
    "else:\n",
    "    print(st*3)"
   ]
  },
  {
   "cell_type": "code",
   "execution_count": 47,
   "metadata": {},
   "outputs": [
    {
     "name": "stdout",
     "output_type": "stream",
     "text": [
      "35\n"
     ]
    }
   ],
   "source": [
    "num=int(input())\n",
    "if num%7==0 and num%5==0:\n",
    "    print(num)\n",
    "else:\n",
    "    print(num*4)"
   ]
  },
  {
   "cell_type": "code",
   "execution_count": 48,
   "metadata": {},
   "outputs": [
    {
     "name": "stdout",
     "output_type": "stream",
     "text": [
      "589 658\n"
     ]
    }
   ],
   "source": [
    "i=int(input())\n",
    "i1=int(input())\n",
    "if i is i1:\n",
    "    print(id(i),id(i1))\n",
    "else:\n",
    "    print(i,i1)"
   ]
  },
  {
   "cell_type": "code",
   "execution_count": 51,
   "metadata": {},
   "outputs": [
    {
     "name": "stdout",
     "output_type": "stream",
     "text": [
      "&&&&&\n",
      "&&&\n",
      "&\n"
     ]
    }
   ],
   "source": [
    "ch=input()\n",
    "if not (ch>='a' and ch<='z' or ch>='A' and ch<='Z' or ch>='0' and ch<='9'):\n",
    "    print(ch*5)\n",
    "    print(ch*3)\n",
    "    print(ch)"
   ]
  },
  {
   "cell_type": "code",
   "execution_count": 52,
   "metadata": {},
   "outputs": [
    {
     "name": "stdout",
     "output_type": "stream",
     "text": [
      "ap\n"
     ]
    }
   ],
   "source": [
    "st1='apple'\n",
    "st2='apple'\n",
    "if len(st1)==len(st2):\n",
    "    print(st1[0]+st2[1])\n",
    "else:\n",
    "    print(st1,st2)"
   ]
  },
  {
   "cell_type": "code",
   "execution_count": 53,
   "metadata": {},
   "outputs": [
    {
     "name": "stdout",
     "output_type": "stream",
     "text": [
      "a\n",
      "140714471010520\n"
     ]
    }
   ],
   "source": [
    "s='abc'\n",
    "s1='abb'\n",
    "if s is s1:\n",
    "    print(s1[-1])\n",
    "else:\n",
    "    print(s[0])\n",
    "    print(id(s[0]))"
   ]
  },
  {
   "cell_type": "code",
   "execution_count": 54,
   "metadata": {},
   "outputs": [
    {
     "name": "stdout",
     "output_type": "stream",
     "text": [
      "aeiouaeiouaeiou\n"
     ]
    }
   ],
   "source": [
    "l='aeiou'\n",
    "mid=len(l)//2\n",
    "if len(l)>3 and l[mid] in 'aeiouAEIOU' and ord(l[0])%2==0:\n",
    "    l2=l[mid-1]\n",
    "    print(l2)\n",
    "    print(l*5)\n",
    "elif ord(l[0])%2!=0:\n",
    "    print(l*3)"
   ]
  },
  {
   "cell_type": "code",
   "execution_count": 55,
   "metadata": {},
   "outputs": [
    {
     "name": "stdout",
     "output_type": "stream",
     "text": [
      "pen is in the shop\n"
     ]
    }
   ],
   "source": [
    "pen=input()\n",
    "if pen == 'cello' or pen=='red':\n",
    "    pencost=10\n",
    "    print('pen is in the shop')\n",
    "else:\n",
    "    print('got out')"
   ]
  },
  {
   "cell_type": "code",
   "execution_count": 56,
   "metadata": {},
   "outputs": [
    {
     "name": "stdout",
     "output_type": "stream",
     "text": [
      "-2\n"
     ]
    }
   ],
   "source": [
    "a=[1,2,3,4,5]\n",
    "mid=len(a)//2\n",
    "if a[mid]%2==0 and a[0]%2==0:\n",
    "    print(a[0]+a[mid])\n",
    "else:\n",
    "    print(a[0]-a[mid])"
   ]
  },
  {
   "cell_type": "code",
   "execution_count": 57,
   "metadata": {},
   "outputs": [
    {
     "name": "stdout",
     "output_type": "stream",
     "text": [
      "2446537047168 2446537166464\n"
     ]
    }
   ],
   "source": [
    "l1=['4',7,8]\n",
    "l2=[1,2,3,4]\n",
    "if type(l1[0] is int and type (l2[0])) is int:\n",
    "    l3=l1+l2\n",
    "    print(l3)\n",
    "else:\n",
    "    print(id(l1), id (l2))"
   ]
  }
 ],
 "metadata": {
  "kernelspec": {
   "display_name": "Python 3",
   "language": "python",
   "name": "python3"
  },
  "language_info": {
   "codemirror_mode": {
    "name": "ipython",
    "version": 3
   },
   "file_extension": ".py",
   "mimetype": "text/x-python",
   "name": "python",
   "nbconvert_exporter": "python",
   "pygments_lexer": "ipython3",
   "version": "3.12.1"
  }
 },
 "nbformat": 4,
 "nbformat_minor": 2
}
