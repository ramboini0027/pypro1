{
 "cells": [
  {
   "cell_type": "markdown",
   "metadata": {},
   "source": [
    "typecasting of data types\n",
    " int->float,comples,boolean,string"
   ]
  },
  {
   "cell_type": "code",
   "execution_count": 3,
   "metadata": {},
   "outputs": [
    {
     "name": "stdout",
     "output_type": "stream",
     "text": [
      "50\n",
      "50.0\n",
      "(50+0j)\n",
      "True\n",
      "50\n"
     ]
    }
   ],
   "source": [
    "a=50\n",
    "print(int(a))\n",
    "print(float(a))\n",
    "print(complex(a))\n",
    "print(bool(a))\n",
    "print(str(a))"
   ]
  },
  {
   "cell_type": "markdown",
   "metadata": {},
   "source": [
    "float->int,complex,boolesn,string"
   ]
  },
  {
   "cell_type": "code",
   "execution_count": 5,
   "metadata": {},
   "outputs": [
    {
     "name": "stdout",
     "output_type": "stream",
     "text": [
      "50\n",
      "50.5\n",
      "(50.5+0j)\n",
      "True\n",
      "50.5\n",
      ".\n"
     ]
    }
   ],
   "source": [
    "a=50.5\n",
    "print(int(a))\n",
    "print(float(a))\n",
    "print(complex(a))\n",
    "print(bool(a))\n",
    "print(str(a))\n",
    "print(str(a)[2])"
   ]
  },
  {
   "cell_type": "markdown",
   "metadata": {},
   "source": [
    "                    complex->boolean,string"
   ]
  },
  {
   "cell_type": "code",
   "execution_count": 7,
   "metadata": {},
   "outputs": [
    {
     "name": "stdout",
     "output_type": "stream",
     "text": [
      "(3+5j)\n",
      "True\n",
      "(3+5j)\n",
      "(\n",
      "+\n",
      "3\n",
      "5\n"
     ]
    }
   ],
   "source": [
    "a=3+5j\n",
    "print(complex(a))\n",
    "print(bool(a))\n",
    "print(str(a))\n",
    "print(str(a)[0])\n",
    "print(str(a)[2])\n",
    "print(str(a)[1])\n",
    "print(str(a)[3])"
   ]
  },
  {
   "cell_type": "markdown",
   "metadata": {},
   "source": [
    "boolean->int,float,complex,string"
   ]
  },
  {
   "cell_type": "code",
   "execution_count": 8,
   "metadata": {},
   "outputs": [
    {
     "name": "stdout",
     "output_type": "stream",
     "text": [
      "1\n",
      "1.0\n",
      "(1+0j)\n",
      "True\n"
     ]
    }
   ],
   "source": [
    "a=True\n",
    "print(int(a))\n",
    "print(float(a))\n",
    "print(complex(a))\n",
    "print(str(a))"
   ]
  },
  {
   "cell_type": "markdown",
   "metadata": {},
   "source": [
    "string->int,float,complex,boolean,list,tuple,set"
   ]
  },
  {
   "cell_type": "code",
   "execution_count": 9,
   "metadata": {},
   "outputs": [
    {
     "name": "stdout",
     "output_type": "stream",
     "text": [
      "1234\n",
      "1234\n",
      "1234.0\n",
      "(1234+0j)\n",
      "True\n",
      "['1', '2', '3', '4']\n",
      "('1', '2', '3', '4')\n",
      "{'1', '2', '4', '3'}\n"
     ]
    },
    {
     "ename": "ValueError",
     "evalue": "dictionary update sequence element #0 has length 1; 2 is required",
     "output_type": "error",
     "traceback": [
      "\u001b[1;31m---------------------------------------------------------------------------\u001b[0m",
      "\u001b[1;31mValueError\u001b[0m                                Traceback (most recent call last)",
      "Cell \u001b[1;32mIn[9], line 10\u001b[0m\n\u001b[0;32m      8\u001b[0m \u001b[38;5;28mprint\u001b[39m(\u001b[38;5;28mtuple\u001b[39m(a))\n\u001b[0;32m      9\u001b[0m \u001b[38;5;28mprint\u001b[39m(\u001b[38;5;28mset\u001b[39m(a))\n\u001b[1;32m---> 10\u001b[0m \u001b[38;5;28mprint\u001b[39m(\u001b[38;5;28;43mdict\u001b[39;49m\u001b[43m(\u001b[49m\u001b[43ma\u001b[49m\u001b[43m)\u001b[49m)\n",
      "\u001b[1;31mValueError\u001b[0m: dictionary update sequence element #0 has length 1; 2 is required"
     ]
    }
   ],
   "source": [
    "a='1234'\n",
    "print(str(a))\n",
    "print(int(a))\n",
    "print(float(a))\n",
    "print(complex(a))\n",
    "print(bool(a))\n",
    "print(list(a))\n",
    "print(tuple(a))\n",
    "print(set(a))\n",
    "print(dict(a))"
   ]
  },
  {
   "cell_type": "markdown",
   "metadata": {},
   "source": [
    "list->string,tuple,set,dict"
   ]
  },
  {
   "cell_type": "code",
   "execution_count": 13,
   "metadata": {},
   "outputs": [
    {
     "name": "stdout",
     "output_type": "stream",
     "text": [
      "[1, 2, 3]\n",
      "[\n",
      "2\n",
      "{1, 2, 3}\n"
     ]
    }
   ],
   "source": [
    "a=[1,2,3]\n",
    "print(list(a))\n",
    "print(str(a)[0])\n",
    "print(tuple(a)[1])\n",
    "print(set(a))\n"
   ]
  },
  {
   "cell_type": "code",
   "execution_count": 14,
   "metadata": {},
   "outputs": [
    {
     "name": "stdout",
     "output_type": "stream",
     "text": [
      "{'name': 'ram', 'age': 22}\n"
     ]
    }
   ],
   "source": [
    "a=[['name','ram'],['age',22]]\n",
    "print(dict(a))"
   ]
  },
  {
   "cell_type": "markdown",
   "metadata": {},
   "source": [
    "tuple->string,list,set,dict"
   ]
  },
  {
   "cell_type": "code",
   "execution_count": 17,
   "metadata": {},
   "outputs": [
    {
     "name": "stdout",
     "output_type": "stream",
     "text": [
      "('ram', 1, 2, 1)\n",
      "['ram', 1, 2, 1]\n",
      "{1, 2, 'ram'}\n"
     ]
    }
   ],
   "source": [
    "a=('ram',1,2,1)\n",
    "print(str(a))\n",
    "print(list(a))\n",
    "print(set(a))\n"
   ]
  },
  {
   "cell_type": "code",
   "execution_count": 19,
   "metadata": {},
   "outputs": [
    {
     "name": "stdout",
     "output_type": "stream",
     "text": [
      "{'ram': 'name', 'age': 21}\n"
     ]
    }
   ],
   "source": [
    "a=(['ram','name'],('age',21))\n",
    "print(dict(a))"
   ]
  },
  {
   "cell_type": "markdown",
   "metadata": {},
   "source": [
    "set->string,list,tuple,dict"
   ]
  },
  {
   "cell_type": "code",
   "execution_count": 20,
   "metadata": {},
   "outputs": [
    {
     "name": "stdout",
     "output_type": "stream",
     "text": [
      "{1, 2, 3, 4}\n",
      "{1, 2, 3, 4}\n",
      "[1, 2, 3, 4]\n",
      "(1, 2, 3, 4)\n"
     ]
    }
   ],
   "source": [
    "a={1,2,3,4,1,1,1,1,1,1}\n",
    "print(set(a))\n",
    "print(str(a))\n",
    "print(list(a))\n",
    "print(tuple(a))"
   ]
  },
  {
   "cell_type": "code",
   "execution_count": 25,
   "metadata": {},
   "outputs": [
    {
     "name": "stdout",
     "output_type": "stream",
     "text": [
      "{'age': 21, 'name': 'ram'}\n"
     ]
    }
   ],
   "source": [
    "a={('name','ram'),('age',21)}\n",
    "print(dict(a))"
   ]
  },
  {
   "cell_type": "markdown",
   "metadata": {},
   "source": [
    "dict->string,list,tuple,set"
   ]
  },
  {
   "cell_type": "code",
   "execution_count": 26,
   "metadata": {},
   "outputs": [
    {
     "name": "stdout",
     "output_type": "stream",
     "text": [
      "{'name': 'ramanujan', 'age': 21}\n",
      "['name', 'age']\n",
      "{'name', 'age'}\n",
      "('name', 'age')\n"
     ]
    }
   ],
   "source": [
    "a={'name':'ramanujan','age':21}\n",
    "print(str(a))\n",
    "print(list(a))\n",
    "print(set(a))\n",
    "print(tuple(a))"
   ]
  }
 ],
 "metadata": {
  "kernelspec": {
   "display_name": "Python 3",
   "language": "python",
   "name": "python3"
  },
  "language_info": {
   "codemirror_mode": {
    "name": "ipython",
    "version": 3
   },
   "file_extension": ".py",
   "mimetype": "text/x-python",
   "name": "python",
   "nbconvert_exporter": "python",
   "pygments_lexer": "ipython3",
   "version": "3.12.1"
  }
 },
 "nbformat": 4,
 "nbformat_minor": 2
}
