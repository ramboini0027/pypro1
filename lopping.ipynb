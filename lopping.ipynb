{
 "cells": [
  {
   "cell_type": "markdown",
   "metadata": {},
   "source": [
    "LOOPING STATEMENTS:\n",
    "while loop:\n",
    "--------------------"
   ]
  },
  {
   "cell_type": "code",
   "execution_count": 2,
   "metadata": {},
   "outputs": [
    {
     "name": "stdout",
     "output_type": "stream",
     "text": [
      "HELLO WORLD\n",
      "HELLO WORLD\n",
      "HELLO WORLD\n",
      "HELLO WORLD\n",
      "HELLO WORLD\n",
      "HELLO WORLD\n",
      "HELLO WORLD\n",
      "HELLO WORLD\n",
      "HELLO WORLD\n",
      "HELLO WORLD\n",
      "HELLO WORLD\n",
      "HELLO WORLD\n",
      "HELLO WORLD\n",
      "HELLO WORLD\n",
      "HELLO WORLD\n"
     ]
    }
   ],
   "source": [
    "i=1\n",
    "while i<=15:\n",
    "    print('HELLO WORLD')\n",
    "    i+=1"
   ]
  },
  {
   "cell_type": "code",
   "execution_count": 4,
   "metadata": {},
   "outputs": [
    {
     "name": "stdout",
     "output_type": "stream",
     "text": [
      "0\n",
      "2\n",
      "4\n",
      "6\n",
      "8\n",
      "10\n"
     ]
    }
   ],
   "source": [
    "i=0\n",
    "while i<=10:\n",
    "    print(i)\n",
    "    i+=2"
   ]
  },
  {
   "cell_type": "code",
   "execution_count": 5,
   "metadata": {},
   "outputs": [
    {
     "name": "stdout",
     "output_type": "stream",
     "text": [
      "1\n",
      "2\n",
      "3\n",
      "4\n",
      "5\n",
      "6\n",
      "7\n",
      "8\n",
      "9\n",
      "10\n"
     ]
    }
   ],
   "source": [
    "i=1\n",
    "while i<=10:\n",
    "    print(i)\n",
    "    i+=1"
   ]
  },
  {
   "cell_type": "code",
   "execution_count": 6,
   "metadata": {},
   "outputs": [
    {
     "name": "stdout",
     "output_type": "stream",
     "text": [
      "1\n",
      "3\n",
      "5\n",
      "7\n",
      "9\n"
     ]
    }
   ],
   "source": [
    "i=1\n",
    "while i<=10:\n",
    "    print(i)\n",
    "    i+=2"
   ]
  },
  {
   "cell_type": "code",
   "execution_count": 7,
   "metadata": {},
   "outputs": [
    {
     "name": "stdout",
     "output_type": "stream",
     "text": [
      "GOOD MORNING\n",
      "HAD YOUR BREAKFAST\n",
      "GOOD MORNING\n",
      "HAD YOUR BREAKFAST\n",
      "GOOD MORNING\n",
      "HAD YOUR BREAKFAST\n",
      "GOOD MORNING\n",
      "HAD YOUR BREAKFAST\n",
      "GOOD MORNING\n",
      "HAD YOUR BREAKFAST\n",
      "GOOD MORNING\n",
      "HAD YOUR BREAKFAST\n",
      "GOOD MORNING\n",
      "HAD YOUR BREAKFAST\n",
      "GOOD MORNING\n",
      "HAD YOUR BREAKFAST\n",
      "GOOD MORNING\n",
      "HAD YOUR BREAKFAST\n",
      "GOOD MORNING\n",
      "HAD YOUR BREAKFAST\n",
      "GOOD MORNING\n",
      "HAD YOUR BREAKFAST\n",
      "GOOD MORNING\n",
      "HAD YOUR BREAKFAST\n",
      "GOOD MORNING\n",
      "HAD YOUR BREAKFAST\n",
      "GOOD MORNING\n",
      "HAD YOUR BREAKFAST\n",
      "GOOD MORNING\n",
      "HAD YOUR BREAKFAST\n"
     ]
    }
   ],
   "source": [
    "i=1\n",
    "while i<=15:\n",
    "    print('GOOD MORNING')\n",
    "    print('HAD YOUR BREAKFAST')\n",
    "    i+=1"
   ]
  }
 ],
 "metadata": {
  "kernelspec": {
   "display_name": "Python 3",
   "language": "python",
   "name": "python3"
  },
  "language_info": {
   "codemirror_mode": {
    "name": "ipython",
    "version": 3
   },
   "file_extension": ".py",
   "mimetype": "text/x-python",
   "name": "python",
   "nbconvert_exporter": "python",
   "pygments_lexer": "ipython3",
   "version": "3.12.1"
  }
 },
 "nbformat": 4,
 "nbformat_minor": 2
}
