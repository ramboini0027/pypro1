{
 "cells": [
  {
   "cell_type": "markdown",
   "metadata": {},
   "source": [
    "FLOW CONTROL STATEMENTS\n",
    "->DECISIONAL STATEMENTS\n",
    "->LOOPING STATEMENTS\n",
    "------->DECISIONAL \n",
    "        SIMPLE IF \n",
    "        "
   ]
  },
  {
   "cell_type": "code",
   "execution_count": 4,
   "metadata": {},
   "outputs": [
    {
     "name": "stdout",
     "output_type": "stream",
     "text": [
      "hii\n",
      "hello\n",
      "good morning\n",
      "bye\n",
      "bye\n",
      "program ends\n"
     ]
    }
   ],
   "source": [
    "value=16\n",
    "if value>15:\n",
    "    print('hii')\n",
    "    print('hello')\n",
    "    print('good morning')\n",
    "    print('bye')\n",
    "    print('bye')\n",
    "print('program ends')"
   ]
  },
  {
   "cell_type": "code",
   "execution_count": 6,
   "metadata": {},
   "outputs": [
    {
     "name": "stdout",
     "output_type": "stream",
     "text": [
      "divisible by 3\n",
      "27\n",
      "program end\n"
     ]
    }
   ],
   "source": [
    "num=27\n",
    "if num%3==0:\n",
    "    print('divisible by 3')\n",
    "    print(num)\n",
    "print('program end')"
   ]
  },
  {
   "cell_type": "code",
   "execution_count": 7,
   "metadata": {},
   "outputs": [
    {
     "name": "stdout",
     "output_type": "stream",
     "text": [
      "it iis present between 10 and 50\n",
      "6\n",
      "-34\n",
      "program ends\n"
     ]
    }
   ],
   "source": [
    "num=44\n",
    "if num>=10 and num<=50:\n",
    "    print('it iis present between 10 and 50')\n",
    "    print(50-num)\n",
    "    print(10-num)\n",
    "print('program ends')"
   ]
  },
  {
   "cell_type": "code",
   "execution_count": 8,
   "metadata": {},
   "outputs": [
    {
     "name": "stdout",
     "output_type": "stream",
     "text": [
      "divisible by both\n",
      "25\n",
      "27\n",
      "program ends\n"
     ]
    }
   ],
   "source": [
    "num=30\n",
    "if num%3==0 and num%5==0:\n",
    "    print('divisible by both')\n",
    "    print(num-5)\n",
    "    print(num-3)\n",
    "print(\"program ends\")"
   ]
  },
  {
   "cell_type": "code",
   "execution_count": 13,
   "metadata": {},
   "outputs": [
    {
     "name": "stdout",
     "output_type": "stream",
     "text": [
      "16\n",
      "16\n",
      "program ends\n"
     ]
    }
   ],
   "source": [
    "n=4\n",
    "if 20%n==0:\n",
    "    print(n**2)\n",
    "    res=(n**2)\n",
    "    print(res)\n",
    "print(\"program ends\")"
   ]
  },
  {
   "cell_type": "code",
   "execution_count": 14,
   "metadata": {},
   "outputs": [
    {
     "name": "stdout",
     "output_type": "stream",
     "text": [
      "125\n",
      "program ends\n"
     ]
    }
   ],
   "source": [
    "num=5\n",
    "if 20%5==0 and 25%5==0:\n",
    "    print(num**3)\n",
    "print('program ends')"
   ]
  },
  {
   "cell_type": "code",
   "execution_count": 15,
   "metadata": {},
   "outputs": [
    {
     "name": "stdout",
     "output_type": "stream",
     "text": [
      "65\n",
      "program ends\n"
     ]
    }
   ],
   "source": [
    "ch='A'\n",
    "if ch>='A' and ch<='Z':\n",
    "    print(ord(ch))\n",
    "print('program ends')"
   ]
  },
  {
   "cell_type": "code",
   "execution_count": 17,
   "metadata": {},
   "outputs": [
    {
     "name": "stdout",
     "output_type": "stream",
     "text": [
      "d 100\n",
      "program ends\n"
     ]
    }
   ],
   "source": [
    "chr='d'\n",
    "asci=ord(chr)\n",
    "if chr>'a' and chr<'z' and asci%2==0:\n",
    "    print(chr,asci)\n",
    "print('program ends')"
   ]
  },
  {
   "cell_type": "markdown",
   "metadata": {},
   "source": [
    "                           ASSINGMENT (DECISIONAL STATEMENTS [simple if])"
   ]
  },
  {
   "cell_type": "code",
   "execution_count": 18,
   "metadata": {},
   "outputs": [
    {
     "name": "stdout",
     "output_type": "stream",
     "text": [
      "hello good morning\n"
     ]
    }
   ],
   "source": [
    "num=4\n",
    "if num>2:\n",
    "    print(\"hello good morning\")"
   ]
  },
  {
   "cell_type": "code",
   "execution_count": 23,
   "metadata": {},
   "outputs": [
    {
     "name": "stdout",
     "output_type": "stream",
     "text": [
      "55 15 700 15 1.75 1\n"
     ]
    }
   ],
   "source": [
    "a=35\n",
    "if a>=35 and a<=40:\n",
    "    print(a+20,a-20,a*20,a%20,a/20,a//20)"
   ]
  },
  {
   "cell_type": "code",
   "execution_count": 25,
   "metadata": {},
   "outputs": [
    {
     "name": "stdout",
     "output_type": "stream",
     "text": [
      "29\n"
     ]
    }
   ],
   "source": [
    "num=9\n",
    "if num%3==0:\n",
    "    num=num+20\n",
    "print(num)"
   ]
  },
  {
   "cell_type": "code",
   "execution_count": 30,
   "metadata": {},
   "outputs": [
    {
     "name": "stdout",
     "output_type": "stream",
     "text": [
      "48\n"
     ]
    }
   ],
   "source": [
    "num=24\n",
    "if num%2==0 and num>20:\n",
    "    print(num*2)\n",
    "else:\n",
    "    print(num)"
   ]
  },
  {
   "cell_type": "code",
   "execution_count": 31,
   "metadata": {},
   "outputs": [
    {
     "name": "stdout",
     "output_type": "stream",
     "text": [
      "82\n"
     ]
    }
   ],
   "source": [
    "car='R'\n",
    "if (car>='a' and car<='z') or (car>='A' and car<='Z'):\n",
    "    print(ord(car))"
   ]
  },
  {
   "cell_type": "code",
   "execution_count": 4,
   "metadata": {},
   "outputs": [
    {
     "name": "stdout",
     "output_type": "stream",
     "text": [
      "A\n"
     ]
    }
   ],
   "source": [
    "G='a'\n",
    "if G>='a' and G<='z':\n",
    "    var=ord(G)-32\n",
    "    print(chr(var)) "
   ]
  },
  {
   "cell_type": "code",
   "execution_count": 5,
   "metadata": {},
   "outputs": [
    {
     "name": "stdout",
     "output_type": "stream",
     "text": [
      "9\n"
     ]
    }
   ],
   "source": [
    "a=49\n",
    "if a>=0:\n",
    "    print(a%10)"
   ]
  },
  {
   "cell_type": "code",
   "execution_count": 19,
   "metadata": {},
   "outputs": [
    {
     "name": "stdout",
     "output_type": "stream",
     "text": [
      "eligible Minimum age is 18\n"
     ]
    }
   ],
   "source": [
    "a=21\n",
    "b=17\n",
    "if a>=18:\n",
    "    print('eligible Minimum age is 18')\n",
    "if b>=18:\n",
    "    print('eligible Minimum age is 18')"
   ]
  },
  {
   "cell_type": "code",
   "execution_count": 20,
   "metadata": {},
   "outputs": [
    {
     "name": "stdout",
     "output_type": "stream",
     "text": [
      "eligible for marriage\n"
     ]
    }
   ],
   "source": [
    "boy=21\n",
    "girl=18\n",
    "if boy>=21 and girl>=18:\n",
    "    print('eligible for marriage')"
   ]
  }
 ],
 "metadata": {
  "kernelspec": {
   "display_name": "Python 3",
   "language": "python",
   "name": "python3"
  },
  "language_info": {
   "codemirror_mode": {
    "name": "ipython",
    "version": 3
   },
   "file_extension": ".py",
   "mimetype": "text/x-python",
   "name": "python",
   "nbconvert_exporter": "python",
   "pygments_lexer": "ipython3",
   "version": "3.12.1"
  }
 },
 "nbformat": 4,
 "nbformat_minor": 2
}
