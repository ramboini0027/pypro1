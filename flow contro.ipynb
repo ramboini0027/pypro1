{
 "cells": [
  {
   "cell_type": "markdown",
   "metadata": {},
   "source": [
    "FLOW CONTROL STATEMENTS\n",
    "->DECISIONAL STATEMENTS\n",
    "->LOOPING STATEMENTS\n",
    "------->DECISIONAL \n",
    "        SIMPLE IF \n",
    "        "
   ]
  },
  {
   "cell_type": "code",
   "execution_count": 2,
   "metadata": {},
   "outputs": [
    {
     "name": "stdout",
     "output_type": "stream",
     "text": [
      "hii\n",
      "hello\n",
      "good morning\n",
      "bye\n",
      "program ends\n"
     ]
    }
   ],
   "source": [
    "value=16\n",
    "if value>15:\n",
    "    print('hii')\n",
    "    print('hello')\n",
    "    print('good morning')\n",
    "    print('bye')\n",
    "print('program ends')"
   ]
  },
  {
   "cell_type": "code",
   "execution_count": null,
   "metadata": {},
   "outputs": [],
   "source": []
  }
 ],
 "metadata": {
  "kernelspec": {
   "display_name": "Python 3",
   "language": "python",
   "name": "python3"
  },
  "language_info": {
   "codemirror_mode": {
    "name": "ipython",
    "version": 3
   },
   "file_extension": ".py",
   "mimetype": "text/x-python",
   "name": "python",
   "nbconvert_exporter": "python",
   "pygments_lexer": "ipython3",
   "version": "3.12.1"
  }
 },
 "nbformat": 4,
 "nbformat_minor": 2
}
