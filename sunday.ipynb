{
 "cells": [
  {
   "cell_type": "markdown",
   "metadata": {},
   "source": [
    "SIMPLE IF STATEMENTS\n",
    "-------------------------"
   ]
  },
  {
   "cell_type": "code",
   "execution_count": 1,
   "metadata": {},
   "outputs": [
    {
     "name": "stdout",
     "output_type": "stream",
     "text": [
      "positive\n"
     ]
    }
   ],
   "source": [
    "num=int(input())\n",
    "if num>0:\n",
    "    print('positive')\n"
   ]
  },
  {
   "cell_type": "code",
   "execution_count": 2,
   "metadata": {},
   "outputs": [
    {
     "name": "stdout",
     "output_type": "stream",
     "text": [
      "HELLO WORLLD\n"
     ]
    }
   ],
   "source": [
    "num=int(input())\n",
    "if num>1 and num<5:\n",
    "    print('HELLO WORLLD')"
   ]
  },
  {
   "cell_type": "code",
   "execution_count": 3,
   "metadata": {},
   "outputs": [
    {
     "name": "stdout",
     "output_type": "stream",
     "text": [
      "FIZZ\n"
     ]
    }
   ],
   "source": [
    "value=int(input())\n",
    "if value%3==0:\n",
    "    print('FIZZ')\n"
   ]
  },
  {
   "cell_type": "code",
   "execution_count": 4,
   "metadata": {},
   "outputs": [
    {
     "name": "stdout",
     "output_type": "stream",
     "text": [
      "(12+0j)\n"
     ]
    }
   ],
   "source": [
    "num=int(input())\n",
    "if num%2==0 and num%6==0:\n",
    "    print(complex(num))"
   ]
  },
  {
   "cell_type": "code",
   "execution_count": 5,
   "metadata": {},
   "outputs": [
    {
     "name": "stdout",
     "output_type": "stream",
     "text": [
      "['2', '5']\n"
     ]
    }
   ],
   "source": [
    "num=int(input())\n",
    "var=str(num)\n",
    "if num%3==0 or num%5==0:\n",
    "    print(list(var))"
   ]
  },
  {
   "cell_type": "code",
   "execution_count": 6,
   "metadata": {},
   "outputs": [
    {
     "name": "stdout",
     "output_type": "stream",
     "text": [
      "multiple of 5\n"
     ]
    }
   ],
   "source": [
    "num=int(input())\n",
    "if num//5==5:\n",
    "    print('multiple of 5')"
   ]
  },
  {
   "cell_type": "code",
   "execution_count": 7,
   "metadata": {},
   "outputs": [
    {
     "name": "stdout",
     "output_type": "stream",
     "text": [
      "0\n"
     ]
    }
   ],
   "source": [
    "num=int(input())\n",
    "if num==0:\n",
    "    print(0)"
   ]
  },
  {
   "cell_type": "code",
   "execution_count": 8,
   "metadata": {},
   "outputs": [
    {
     "name": "stdout",
     "output_type": "stream",
     "text": [
      "NEGATIVE\n"
     ]
    }
   ],
   "source": [
    "num=int(input())\n",
    "if num<0:\n",
    "    print('NEGATIVE')"
   ]
  },
  {
   "cell_type": "code",
   "execution_count": 9,
   "metadata": {},
   "outputs": [
    {
     "name": "stdout",
     "output_type": "stream",
     "text": [
      "['6', '5', '4']\n"
     ]
    }
   ],
   "source": [
    "num=int(input())\n",
    "var=str(num)\n",
    "l=list(var)\n",
    "if num%2==0:\n",
    "    print(l)"
   ]
  },
  {
   "cell_type": "code",
   "execution_count": 10,
   "metadata": {},
   "outputs": [
    {
     "name": "stdout",
     "output_type": "stream",
     "text": [
      "('6', '5', '5')\n"
     ]
    }
   ],
   "source": [
    "num=int(input())\n",
    "var=str(num)\n",
    "t=tuple(var)\n",
    "if num%2==1:\n",
    "    print(t)"
   ]
  },
  {
   "cell_type": "code",
   "execution_count": 11,
   "metadata": {},
   "outputs": [
    {
     "name": "stdout",
     "output_type": "stream",
     "text": [
      "yes\n",
      "340701020416\n"
     ]
    }
   ],
   "source": [
    "val=int(input())\n",
    "if val%2==0:\n",
    "    print('yes')\n",
    "    print(val**4)"
   ]
  },
  {
   "cell_type": "code",
   "execution_count": 17,
   "metadata": {},
   "outputs": [
    {
     "name": "stdout",
     "output_type": "stream",
     "text": [
      "90\n"
     ]
    }
   ],
   "source": [
    "num=int(input())\n",
    "if num>=0 or num<=0:\n",
    "    print(num+56)\n"
   ]
  },
  {
   "cell_type": "code",
   "execution_count": 19,
   "metadata": {},
   "outputs": [
    {
     "name": "stdout",
     "output_type": "stream",
     "text": [
      "1225\n"
     ]
    }
   ],
   "source": [
    "num=int(input())\n",
    "if num%5==0 and num%7==0:\n",
    "    print(num**2)"
   ]
  },
  {
   "cell_type": "code",
   "execution_count": 82,
   "metadata": {},
   "outputs": [
    {
     "name": "stdout",
     "output_type": "stream",
     "text": [
      "2\n"
     ]
    }
   ],
   "source": [
    "num=int(input())\n",
    "n=num%10\n",
    "if n>5:\n",
    "    print(n>>2)"
   ]
  },
  {
   "cell_type": "code",
   "execution_count": 86,
   "metadata": {},
   "outputs": [
    {
     "name": "stdout",
     "output_type": "stream",
     "text": [
      "81\n"
     ]
    }
   ],
   "source": [
    "num=int(input())\n",
    "if num%3==0 and num<30:\n",
    "    print(num**2)"
   ]
  },
  {
   "cell_type": "code",
   "execution_count": 87,
   "metadata": {},
   "outputs": [
    {
     "name": "stdout",
     "output_type": "stream",
     "text": [
      "13824\n"
     ]
    }
   ],
   "source": [
    "num=int(input())\n",
    "if num%2==0 and num%4==0:\n",
    "    print(num**3)"
   ]
  },
  {
   "cell_type": "code",
   "execution_count": 88,
   "metadata": {},
   "outputs": [
    {
     "name": "stdout",
     "output_type": "stream",
     "text": [
      "[4]\n"
     ]
    }
   ],
   "source": [
    "num=int(input())\n",
    "if num%2==0:\n",
    "    print([num])"
   ]
  },
  {
   "cell_type": "code",
   "execution_count": 7,
   "metadata": {},
   "outputs": [
    {
     "name": "stdout",
     "output_type": "stream",
     "text": [
      "4\n"
     ]
    }
   ],
   "source": [
    "num=int(input())\n",
    "if num<0 or num%2==0 :\n",
    "    print(num%10)"
   ]
  },
  {
   "cell_type": "code",
   "execution_count": 10,
   "metadata": {},
   "outputs": [
    {
     "name": "stdout",
     "output_type": "stream",
     "text": [
      "-110592\n"
     ]
    }
   ],
   "source": [
    "num=int(input())\n",
    "if num<0 or num%2==1 and num%4==0:\n",
    "    print(num**3)"
   ]
  },
  {
   "cell_type": "code",
   "execution_count": 11,
   "metadata": {},
   "outputs": [
    {
     "name": "stdout",
     "output_type": "stream",
     "text": [
      "D\n"
     ]
    }
   ],
   "source": [
    "num=int(input())\n",
    "if num%4==0 and num%2==0:\n",
    "    print(chr(num))"
   ]
  },
  {
   "cell_type": "code",
   "execution_count": 25,
   "metadata": {},
   "outputs": [
    {
     "name": "stdout",
     "output_type": "stream",
     "text": [
      "P\n"
     ]
    }
   ],
   "source": [
    "num=int(input())\n",
    "if num>45 and num<125 and num%4==0 and num%5==0 and num%2==0:\n",
    "    print(chr(num))"
   ]
  },
  {
   "cell_type": "code",
   "execution_count": 22,
   "metadata": {},
   "outputs": [
    {
     "name": "stdout",
     "output_type": "stream",
     "text": [
      "400\n"
     ]
    }
   ],
   "source": [
    "num=int(input())\n",
    "if num>25 and num<100 and num%4==0 and num%5==0:\n",
    "    print(num*5)"
   ]
  },
  {
   "cell_type": "code",
   "execution_count": 30,
   "metadata": {},
   "outputs": [
    {
     "name": "stdout",
     "output_type": "stream",
     "text": [
      "0\n"
     ]
    }
   ],
   "source": [
    "num=int(input())\n",
    "if num>0 or num<0 and num%2==1:\n",
    "    print(num%5)"
   ]
  },
  {
   "cell_type": "code",
   "execution_count": 31,
   "metadata": {},
   "outputs": [
    {
     "name": "stdout",
     "output_type": "stream",
     "text": [
      "55\n"
     ]
    }
   ],
   "source": [
    "val=int(input())\n",
    "if val>=0 or val<=0:\n",
    "    print(str(val))"
   ]
  },
  {
   "cell_type": "code",
   "execution_count": 47,
   "metadata": {},
   "outputs": [
    {
     "name": "stdout",
     "output_type": "stream",
     "text": [
      "a\n"
     ]
    }
   ],
   "source": [
    "num=int(input())\n",
    "ch='ram'\n",
    "ch1=len(ch)//2\n",
    "if num>60 and num<125:\n",
    "    print(ch[ch1])"
   ]
  },
  {
   "cell_type": "code",
   "execution_count": 48,
   "metadata": {},
   "outputs": [
    {
     "name": "stdout",
     "output_type": "stream",
     "text": [
      "110\n"
     ]
    }
   ],
   "source": [
    "a=int(input())\n",
    "b=int(input())\n",
    "if a==b:\n",
    "    print(a+b)"
   ]
  },
  {
   "cell_type": "code",
   "execution_count": 49,
   "metadata": {},
   "outputs": [
    {
     "name": "stdout",
     "output_type": "stream",
     "text": [
      "25\n",
      "8.333333333333334\n"
     ]
    }
   ],
   "source": [
    "a=int(input())\n",
    "b=int(input())\n",
    "c=a*b\n",
    "if a==b:\n",
    "    print(c)\n",
    "    print(c/3)"
   ]
  },
  {
   "cell_type": "code",
   "execution_count": 58,
   "metadata": {},
   "outputs": [
    {
     "name": "stdout",
     "output_type": "stream",
     "text": [
      "{'k': 107}\n"
     ]
    }
   ],
   "source": [
    "s=input()\n",
    "s1=ord(s)\n",
    "if s>='a' and s<='z' or s>='A' and s<='Z':\n",
    "    print ({s:s1})\n"
   ]
  },
  {
   "cell_type": "code",
   "execution_count": 57,
   "metadata": {},
   "outputs": [
    {
     "name": "stdout",
     "output_type": "stream",
     "text": [
      "{'G': 71}\n"
     ]
    }
   ],
   "source": [
    "s=input()\n",
    "s1=ord(s)\n",
    "if s>='A' and s<='Z':\n",
    "    print({s:s1})"
   ]
  },
  {
   "cell_type": "code",
   "execution_count": 55,
   "metadata": {},
   "outputs": [
    {
     "name": "stdout",
     "output_type": "stream",
     "text": [
      "{'h': 104}\n"
     ]
    }
   ],
   "source": [
    "ch=input()\n",
    "ch1=(ord(ch)+32)\n",
    "ch2=chr(ch1)\n",
    "if ch>='A' and ch<='Z':\n",
    "    print({ch2:ch1})"
   ]
  },
  {
   "cell_type": "code",
   "execution_count": 43,
   "metadata": {},
   "outputs": [
    {
     "name": "stdout",
     "output_type": "stream",
     "text": [
      "rrrrr\n"
     ]
    }
   ],
   "source": [
    "sr=input()\n",
    "if sr>'a' and  sr<'z':\n",
    "    print(sr*5)"
   ]
  },
  {
   "cell_type": "code",
   "execution_count": 42,
   "metadata": {},
   "outputs": [
    {
     "name": "stdout",
     "output_type": "stream",
     "text": [
      "102\n",
      "102\n"
     ]
    }
   ],
   "source": [
    "num=input()\n",
    "ch=ord(num)\n",
    "if num>='a' and num<='z' or num>'A' and num <'Z' and num>'0' and num<'9':\n",
    "    print(ch)\n",
    "    print(int(ch))"
   ]
  },
  {
   "cell_type": "code",
   "execution_count": 47,
   "metadata": {},
   "outputs": [
    {
     "name": "stdout",
     "output_type": "stream",
     "text": [
      "symbol 35\n"
     ]
    }
   ],
   "source": [
    "ch=input()\n",
    "if num!='a' and num!='z' or num!='A' and num !='Z' and num!='0' and num!='9':\n",
    "    print('symbol',ord(ch))\n",
    "    \n"
   ]
  },
  {
   "cell_type": "code",
   "execution_count": 48,
   "metadata": {},
   "outputs": [
    {
     "name": "stdout",
     "output_type": "stream",
     "text": [
      "even\n"
     ]
    }
   ],
   "source": [
    "num=int(input())\n",
    "if num%2==0:\n",
    "    print('even')"
   ]
  },
  {
   "cell_type": "code",
   "execution_count": 49,
   "metadata": {},
   "outputs": [
    {
     "name": "stdout",
     "output_type": "stream",
     "text": [
      "10\n",
      "100\n"
     ]
    }
   ],
   "source": [
    "a=int(input())\n",
    "b=int(input())\n",
    "if a==10 or b==10 or a+b==10:\n",
    "    print(a+b)\n",
    "    print((a+b)**2)"
   ]
  },
  {
   "cell_type": "code",
   "execution_count": 51,
   "metadata": {},
   "outputs": [
    {
     "name": "stdout",
     "output_type": "stream",
     "text": [
      "f\n"
     ]
    }
   ],
   "source": [
    "ch=input()\n",
    "ch1=ord(ch)\n",
    "ch2=chr(ch1+1)\n",
    "if ch in 'aeiouAEIOU':\n",
    "    print(ch2)"
   ]
  },
  {
   "cell_type": "code",
   "execution_count": 59,
   "metadata": {},
   "outputs": [
    {
     "name": "stdout",
     "output_type": "stream",
     "text": [
      "F\n"
     ]
    }
   ],
   "source": [
    "ch=input()\n",
    "ch1=ord(ch)\n",
    "ch2=chr(ch1-1)\n",
    "if ch not in 'aeiouAEIOU':\n",
    "    print(ch2)"
   ]
  },
  {
   "cell_type": "code",
   "execution_count": 2,
   "metadata": {},
   "outputs": [
    {
     "name": "stdout",
     "output_type": "stream",
     "text": [
      "1\n",
      "single value data type\n"
     ]
    }
   ],
   "source": [
    "a=1\n",
    "print(a)\n",
    "if type(a) in [int,float,bool,complex]:\n",
    "    print('single value data type') \n"
   ]
  },
  {
   "cell_type": "code",
   "execution_count": 3,
   "metadata": {},
   "outputs": [
    {
     "name": "stdout",
     "output_type": "stream",
     "text": [
      "abc\n",
      "('a', 'b', 'c')\n"
     ]
    }
   ],
   "source": [
    "a='abc'\n",
    "if type(a) in [str,tuple,set,dict] :\n",
    "    print(a)\n",
    "    print(tuple(a))"
   ]
  },
  {
   "cell_type": "code",
   "execution_count": 4,
   "metadata": {},
   "outputs": [
    {
     "name": "stdout",
     "output_type": "stream",
     "text": [
      "{'2', '3', '6', '1', '5'}\n"
     ]
    }
   ],
   "source": [
    "a=input()\n",
    "if type(a) in [str,tuple,int,float,bool]:\n",
    "    print(set(a))"
   ]
  },
  {
   "cell_type": "code",
   "execution_count": 7,
   "metadata": {},
   "outputs": [
    {
     "name": "stdout",
     "output_type": "stream",
     "text": [
      "['1', '2', '3', '6', '5', '4']\n",
      "odd\n"
     ]
    }
   ],
   "source": [
    "num=list(input())\n",
    "num2=len(num)\n",
    "num3=num2//2\n",
    "if num3%2==1:\n",
    "    print(num)\n",
    "    print('odd')\n"
   ]
  },
  {
   "cell_type": "code",
   "execution_count": 8,
   "metadata": {},
   "outputs": [
    {
     "name": "stdout",
     "output_type": "stream",
     "text": [
      "140714470980832 140714470980832\n"
     ]
    }
   ],
   "source": [
    "a='a'\n",
    "b='a'\n",
    "if a is b:\n",
    "    print(id(a),id(b))"
   ]
  },
  {
   "cell_type": "code",
   "execution_count": 9,
   "metadata": {},
   "outputs": [
    {
     "name": "stdout",
     "output_type": "stream",
     "text": [
      "ram ram\n"
     ]
    }
   ],
   "source": [
    "st1=input()\n",
    "st2=input()\n",
    "if st1==st2:\n",
    "    st1==st2\n",
    "    st2==st1\n",
    "    print(st1,st2)"
   ]
  },
  {
   "cell_type": "code",
   "execution_count": 10,
   "metadata": {},
   "outputs": [
    {
     "name": "stdout",
     "output_type": "stream",
     "text": [
      "{'*': 42}\n"
     ]
    }
   ],
   "source": [
    "ch=input()\n",
    "if not ((ch>='A' and ch<='Z') or (ch>='a' and  num<='z') or (ch>='0' and ch<='9')):\n",
    "    ch1=ord(ch)\n",
    "    d={ch:ch1}\n",
    "    print(d)"
   ]
  },
  {
   "cell_type": "code",
   "execution_count": 11,
   "metadata": {},
   "outputs": [
    {
     "name": "stdout",
     "output_type": "stream",
     "text": [
      "{1: 123, 4: '1234'}\n"
     ]
    }
   ],
   "source": [
    "d=4\n",
    "dict={1:123}\n",
    "if d is not dict:\n",
    "    dict[d]='1234'\n",
    "    print(dict)"
   ]
  },
  {
   "cell_type": "code",
   "execution_count": 12,
   "metadata": {},
   "outputs": [
    {
     "name": "stdout",
     "output_type": "stream",
     "text": [
      "5462\n",
      "2 is a last digit\n"
     ]
    }
   ],
   "source": [
    "num=int(input())\n",
    "num1=num%10\n",
    "if num1==2:\n",
    "    print(num)\n",
    "    print(num1,'is a last digit')"
   ]
  },
  {
   "cell_type": "code",
   "execution_count": 14,
   "metadata": {},
   "outputs": [
    {
     "name": "stdout",
     "output_type": "stream",
     "text": [
      "10\n",
      "100\n"
     ]
    }
   ],
   "source": [
    "a=int(input())\n",
    "b=int(input())\n",
    "if a==10 or b==10 or a+b==10:\n",
    "    print(a+b)\n",
    "    print((a+b)**2)"
   ]
  },
  {
   "cell_type": "code",
   "execution_count": 15,
   "metadata": {},
   "outputs": [
    {
     "name": "stdout",
     "output_type": "stream",
     "text": [
      "ram 3\n",
      "anil 4\n"
     ]
    }
   ],
   "source": [
    "st=input()\n",
    "st1=input()\n",
    "if st != st1:\n",
    "    print(st,len(st))\n",
    "    print(st1,len(st1))"
   ]
  }
 ],
 "metadata": {
  "kernelspec": {
   "display_name": "Python 3",
   "language": "python",
   "name": "python3"
  },
  "language_info": {
   "codemirror_mode": {
    "name": "ipython",
    "version": 3
   },
   "file_extension": ".py",
   "mimetype": "text/x-python",
   "name": "python",
   "nbconvert_exporter": "python",
   "pygments_lexer": "ipython3",
   "version": "3.12.1"
  }
 },
 "nbformat": 4,
 "nbformat_minor": 2
}
