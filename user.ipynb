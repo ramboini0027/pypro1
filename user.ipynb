{
 "cells": [
  {
   "cell_type": "markdown",
   "metadata": {},
   "source": [
    "HOW TO GET INPUT DATA:"
   ]
  },
  {
   "cell_type": "code",
   "execution_count": 2,
   "metadata": {},
   "outputs": [
    {
     "name": "stdout",
     "output_type": "stream",
     "text": [
      "hello: ram\n",
      "<class 'str'>\n"
     ]
    }
   ],
   "source": [
    "name=input()\n",
    "print('hello:',name)\n",
    "print(type(name))"
   ]
  },
  {
   "cell_type": "markdown",
   "metadata": {},
   "source": [
    "HOW TO GET INT DATA:"
   ]
  },
  {
   "cell_type": "code",
   "execution_count": 3,
   "metadata": {},
   "outputs": [
    {
     "name": "stdout",
     "output_type": "stream",
     "text": [
      "23\n",
      "<class 'int'>\n"
     ]
    }
   ],
   "source": [
    "name=int(input())\n",
    "print(name)\n",
    "print(type(name))\n"
   ]
  },
  {
   "cell_type": "markdown",
   "metadata": {},
   "source": [
    "HOW TO GET FLOAT:"
   ]
  },
  {
   "cell_type": "code",
   "execution_count": 4,
   "metadata": {},
   "outputs": [
    {
     "name": "stdout",
     "output_type": "stream",
     "text": [
      "5.5\n",
      "<class 'float'>\n"
     ]
    }
   ],
   "source": [
    "name=float(input())\n",
    "print(name)\n",
    "print(type(name))"
   ]
  },
  {
   "cell_type": "markdown",
   "metadata": {},
   "source": [
    "HOW TO GET COMPLEX :"
   ]
  },
  {
   "cell_type": "code",
   "execution_count": 5,
   "metadata": {},
   "outputs": [
    {
     "name": "stdout",
     "output_type": "stream",
     "text": [
      "(2+9j)\n",
      "<class 'complex'>\n"
     ]
    }
   ],
   "source": [
    "name=complex(input())\n",
    "print(name)\n",
    "print(type(name))"
   ]
  },
  {
   "cell_type": "markdown",
   "metadata": {},
   "source": [
    "HOW TO GET BOOLEAN:"
   ]
  },
  {
   "cell_type": "code",
   "execution_count": 9,
   "metadata": {},
   "outputs": [
    {
     "name": "stdout",
     "output_type": "stream",
     "text": [
      "True\n",
      "<class 'bool'>\n"
     ]
    }
   ],
   "source": [
    "name=bool(input())\n",
    "print(name)\n",
    "print(type(name))\n"
   ]
  },
  {
   "cell_type": "markdown",
   "metadata": {},
   "source": [
    "                                         DECISIONAL STATEMENTS:\n",
    "                                        ---- if else -----"
   ]
  },
  {
   "cell_type": "code",
   "execution_count": 7,
   "metadata": {},
   "outputs": [
    {
     "name": "stdout",
     "output_type": "stream",
     "text": [
      "144\n",
      "program ends\n"
     ]
    }
   ],
   "source": [
    "num=int(input())\n",
    "if num>10:\n",
    "    print(num**2)\n",
    "else:\n",
    "    print(num-2)\n",
    "print('program ends')"
   ]
  },
  {
   "cell_type": "code",
   "execution_count": 8,
   "metadata": {},
   "outputs": [
    {
     "name": "stdout",
     "output_type": "stream",
     "text": [
      "7\n",
      "program ends\n"
     ]
    }
   ],
   "source": [
    "num=int(input())\n",
    "if num>10:\n",
    "    print(num**2)\n",
    "else:\n",
    "    print(num-2)\n",
    "print('program ends')"
   ]
  },
  {
   "cell_type": "markdown",
   "metadata": {},
   "source": [
    "                                        ASSINGMENT :"
   ]
  },
  {
   "cell_type": "code",
   "execution_count": 3,
   "metadata": {},
   "outputs": [
    {
     "name": "stdout",
     "output_type": "stream",
     "text": [
      "HELLO GOOD MORNING\n"
     ]
    }
   ],
   "source": [
    "var=input()\n",
    "var1=ord(var)\n",
    "if (var>='A' and var<='z' or var>='a' and var<='z') and (var1%2==0) :\n",
    "    print(\"HELLO GOOD MORNING\")\n",
    "else:\n",
    "    print('tata tata! good bye!')"
   ]
  },
  {
   "cell_type": "code",
   "execution_count": 1,
   "metadata": {},
   "outputs": [
    {
     "name": "stdout",
     "output_type": "stream",
     "text": [
      "tata tata! good bye!\n"
     ]
    }
   ],
   "source": [
    "var=input()\n",
    "var1=ord(var)\n",
    "if (var>='A' and var<='z' or var>='a' and var<='z') and (var1%2==0) :\n",
    "    print(\"HELLO GOOD MORNING\")\n",
    "else:\n",
    "    print('tata tata! good bye!')"
   ]
  },
  {
   "cell_type": "code",
   "execution_count": 16,
   "metadata": {},
   "outputs": [
    {
     "name": "stdout",
     "output_type": "stream",
     "text": [
      "29\n",
      "19\n"
     ]
    }
   ],
   "source": [
    "num=int(input())\n",
    "value=num%10\n",
    "if (num>5 and num<25) and value%3==0:\n",
    "    print (num+10)\n",
    "else:\n",
    "    print(num-10)\n",
    "print(num)"
   ]
  },
  {
   "cell_type": "code",
   "execution_count": 17,
   "metadata": {},
   "outputs": [
    {
     "name": "stdout",
     "output_type": "stream",
     "text": [
      "12\n",
      "22\n"
     ]
    }
   ],
   "source": [
    "num=int(input())\n",
    "value=num%10\n",
    "if (num>5 and num<25) and value%3==0:\n",
    "    print (num+10)\n",
    "else:\n",
    "    print(num-10)\n",
    "print(num)"
   ]
  },
  {
   "cell_type": "code",
   "execution_count": 20,
   "metadata": {},
   "outputs": [
    {
     "name": "stdout",
     "output_type": "stream",
     "text": [
      "even\n",
      "24\n"
     ]
    }
   ],
   "source": [
    "num=int(input())\n",
    "if(num%2==0) :\n",
    "    print('even')\n",
    "else:\n",
    "    print('odd')\n",
    "print(num)\n",
    "\n",
    "\n"
   ]
  },
  {
   "cell_type": "code",
   "execution_count": 21,
   "metadata": {},
   "outputs": [
    {
     "name": "stdout",
     "output_type": "stream",
     "text": [
      "odd\n",
      "21\n"
     ]
    }
   ],
   "source": [
    "num=int(input())\n",
    "if(num%2==0) :\n",
    "    print('even')\n",
    "else:\n",
    "    print('odd')\n",
    "print(num)\n"
   ]
  },
  {
   "cell_type": "code",
   "execution_count": 23,
   "metadata": {},
   "outputs": [
    {
     "name": "stdout",
     "output_type": "stream",
     "text": [
      "lower case\n",
      "a\n"
     ]
    }
   ],
   "source": [
    "name=input()\n",
    "if name>='a' and name<='z' :\n",
    "    print('lower case')\n",
    "else:\n",
    "    print('upper casse')\n",
    "print(name)\n"
   ]
  },
  {
   "cell_type": "code",
   "execution_count": 24,
   "metadata": {},
   "outputs": [
    {
     "name": "stdout",
     "output_type": "stream",
     "text": [
      "upper casse\n",
      "A\n"
     ]
    }
   ],
   "source": [
    "name=input()\n",
    "if name>='a' and name<='z' :\n",
    "    print('lower case')\n",
    "else:\n",
    "    print('upper casse')\n",
    "print(name)"
   ]
  },
  {
   "cell_type": "code",
   "execution_count": 25,
   "metadata": {},
   "outputs": [
    {
     "name": "stdout",
     "output_type": "stream",
     "text": [
      "alphabet\n",
      "A\n"
     ]
    }
   ],
   "source": [
    "name=input()\n",
    "if name>='a' and name<='z' or name>='A' and name<='Z' :\n",
    "    print(\"alphabet\")\n",
    "else:\n",
    "    print('not an alphabet')\n",
    "print(name)"
   ]
  },
  {
   "cell_type": "code",
   "execution_count": 26,
   "metadata": {},
   "outputs": [
    {
     "name": "stdout",
     "output_type": "stream",
     "text": [
      "not an alphabet\n",
      "5\n"
     ]
    }
   ],
   "source": [
    "name=input()\n",
    "if name>='a' and name<='z' or name>='A' and name<='Z' :\n",
    "    print(\"alphabet\")\n",
    "else:\n",
    "    print('not an alphabet')\n",
    "print(name)"
   ]
  },
  {
   "cell_type": "code",
   "execution_count": 30,
   "metadata": {},
   "outputs": [
    {
     "name": "stdout",
     "output_type": "stream",
     "text": [
      "digit\n",
      "8\n"
     ]
    }
   ],
   "source": [
    "a=int(input())\n",
    "if a>=0 and a<=9 :\n",
    "    print('digit')\n",
    "else :\n",
    "    print('not a digit')\n",
    "print(a)"
   ]
  },
  {
   "cell_type": "code",
   "execution_count": 46,
   "metadata": {},
   "outputs": [
    {
     "name": "stdout",
     "output_type": "stream",
     "text": [
      "it is a symbol\n",
      "*\n"
     ]
    }
   ],
   "source": [
    "var=input()\n",
    "if ((var>='0' and var<='9') or (var>='a' and var<='z') or (var>='A' and var<='Z')):\n",
    "    print(\"it is not symbol\")\n",
    "else:\n",
    "    print('it is a symbol')\n",
    "print(var)"
   ]
  },
  {
   "cell_type": "code",
   "execution_count": 43,
   "metadata": {},
   "outputs": [
    {
     "name": "stdout",
     "output_type": "stream",
     "text": [
      "divisible by both\n",
      "36\n"
     ]
    }
   ],
   "source": [
    "num=int(input())\n",
    "if num%2==0 and num%3==0:\n",
    "    print('divisible by both')\n",
    "else:\n",
    "    print('not divisible by both')\n",
    "print(num)"
   ]
  },
  {
   "cell_type": "code",
   "execution_count": 45,
   "metadata": {},
   "outputs": [
    {
     "name": "stdout",
     "output_type": "stream",
     "text": [
      "98\n",
      "b\n"
     ]
    }
   ],
   "source": [
    "var=input()\n",
    "if var>='a' and var<='b' or var>='A' and var<='Z':\n",
    "    print(ord(var))\n",
    "else:\n",
    "    print(chr(var))\n",
    "print(var)"
   ]
  },
  {
   "cell_type": "code",
   "execution_count": 48,
   "metadata": {},
   "outputs": [
    {
     "name": "stdout",
     "output_type": "stream",
     "text": [
      "come on wednesday\n",
      "%\n",
      "37\n"
     ]
    }
   ],
   "source": [
    "sym=input()\n",
    "if ord(sym)>70:\n",
    "    print(\"HAPPY DIWALI\")\n",
    "else:\n",
    "    print('come on wednesday')\n",
    "print(sym)\n",
    "print(ord(sym))"
   ]
  },
  {
   "cell_type": "code",
   "execution_count": 50,
   "metadata": {},
   "outputs": [
    {
     "name": "stdout",
     "output_type": "stream",
     "text": [
      "not a vowel\n",
      "s\n"
     ]
    }
   ],
   "source": [
    "Given=input()\n",
    "if Given in 'aeiou':\n",
    "    print('vowel')\n",
    "else:\n",
    "    print('not a vowel')\n",
    "print(Given)"
   ]
  },
  {
   "cell_type": "code",
   "execution_count": 51,
   "metadata": {},
   "outputs": [
    {
     "name": "stdout",
     "output_type": "stream",
     "text": [
      "vowel\n",
      "e\n"
     ]
    }
   ],
   "source": [
    "Given=input()\n",
    "if Given in 'aeiou':\n",
    "    print('vowel')\n",
    "else:\n",
    "    print('not a vowel')\n",
    "print(Given)"
   ]
  },
  {
   "cell_type": "code",
   "execution_count": 53,
   "metadata": {},
   "outputs": [
    {
     "name": "stdout",
     "output_type": "stream",
     "text": [
      "consonant\n",
      "l\n"
     ]
    }
   ],
   "source": [
    "mine=input()\n",
    "if mine not in 'aeiou':\n",
    "    print('consonant')\n",
    "else:\n",
    "    print('not a consonant')\n",
    "print(mine)"
   ]
  },
  {
   "cell_type": "code",
   "execution_count": 54,
   "metadata": {},
   "outputs": [
    {
     "name": "stdout",
     "output_type": "stream",
     "text": [
      "not a consonant\n",
      "e\n"
     ]
    }
   ],
   "source": [
    "mine=input()\n",
    "if mine not in 'aeiou':\n",
    "    print('consonant')\n",
    "else:\n",
    "    print('not a consonant')\n",
    "print(mine)"
   ]
  },
  {
   "cell_type": "code",
   "execution_count": 57,
   "metadata": {},
   "outputs": [
    {
     "name": "stdout",
     "output_type": "stream",
     "text": [
      "not greater\n",
      "5\n"
     ]
    }
   ],
   "source": [
    "num=int(input())\n",
    "if num>10:\n",
    "    print('greater')\n",
    "else:\n",
    "    print('not greater')\n",
    "print(num)"
   ]
  },
  {
   "cell_type": "code",
   "execution_count": 58,
   "metadata": {},
   "outputs": [
    {
     "name": "stdout",
     "output_type": "stream",
     "text": [
      "greater\n",
      "11\n"
     ]
    }
   ],
   "source": [
    "num=int(input())\n",
    "if num>10:\n",
    "    print('greater')\n",
    "else:\n",
    "    print('not greater')\n",
    "print(num)"
   ]
  },
  {
   "cell_type": "code",
   "execution_count": 59,
   "metadata": {},
   "outputs": [
    {
     "name": "stdout",
     "output_type": "stream",
     "text": [
      "equals\n",
      "15\n"
     ]
    }
   ],
   "source": [
    "num=int(input())\n",
    "if num==15:\n",
    "    print('equals')\n",
    "else:\n",
    "    print('not equals')\n",
    "print(num)"
   ]
  },
  {
   "cell_type": "code",
   "execution_count": 60,
   "metadata": {},
   "outputs": [
    {
     "name": "stdout",
     "output_type": "stream",
     "text": [
      "not equals\n",
      "13\n"
     ]
    }
   ],
   "source": [
    "num=int(input())\n",
    "if num==15:\n",
    "    print('equals')\n",
    "else:\n",
    "    print('not equals')\n",
    "print(num)"
   ]
  },
  {
   "cell_type": "code",
   "execution_count": 61,
   "metadata": {},
   "outputs": [
    {
     "name": "stdout",
     "output_type": "stream",
     "text": [
      "divisible\n",
      "24\n"
     ]
    }
   ],
   "source": [
    "num=int(input())\n",
    "if num%4==0:\n",
    "    print('divisible')\n",
    "else:\n",
    "    print('not divisible')\n",
    "print(num)"
   ]
  },
  {
   "cell_type": "code",
   "execution_count": 62,
   "metadata": {},
   "outputs": [
    {
     "name": "stdout",
     "output_type": "stream",
     "text": [
      "not divisible\n",
      "22\n"
     ]
    }
   ],
   "source": [
    "num=int(input())\n",
    "if num%4==0:\n",
    "    print('divisible')\n",
    "else:\n",
    "    print('not divisible')\n",
    "print(num)"
   ]
  },
  {
   "cell_type": "code",
   "execution_count": 66,
   "metadata": {},
   "outputs": [
    {
     "name": "stdout",
     "output_type": "stream",
     "text": [
      "5\n",
      "25\n"
     ]
    }
   ],
   "source": [
    "num=int(input())\n",
    "if num>21 and num<35 and num%2==0:\n",
    "    print(num*3)\n",
    "else:\n",
    "    print(num-20)\n",
    "print(num)"
   ]
  },
  {
   "cell_type": "code",
   "execution_count": 67,
   "metadata": {},
   "outputs": [
    {
     "name": "stdout",
     "output_type": "stream",
     "text": [
      "72\n",
      "24\n"
     ]
    }
   ],
   "source": [
    "num=int(input())\n",
    "if num>21 and num<35 and num%2==0:\n",
    "    print(num*3)\n",
    "else:\n",
    "    print(num-20)\n",
    "print(num)"
   ]
  },
  {
   "cell_type": "markdown",
   "metadata": {},
   "source": [
    "                   DECISIONAL OPERATERS\n",
    "                   ELIF:"
   ]
  },
  {
   "cell_type": "code",
   "execution_count": 3,
   "metadata": {},
   "outputs": [
    {
     "name": "stdout",
     "output_type": "stream",
     "text": [
      "digit\n",
      "5\n"
     ]
    }
   ],
   "source": [
    "value=input()\n",
    "if value >='a' and value<='b':\n",
    "    print(\"lower case\")\n",
    "elif value >='A' and value<=\"z\":\n",
    "    print('upper case')\n",
    "elif value >='0' and value<='9':\n",
    "    print('digit')\n",
    "else:\n",
    "    print(\"symbol\")\n",
    "print(value)"
   ]
  },
  {
   "cell_type": "code",
   "execution_count": 4,
   "metadata": {},
   "outputs": [
    {
     "name": "stdout",
     "output_type": "stream",
     "text": [
      "upper case\n",
      "d\n"
     ]
    }
   ],
   "source": [
    "value=input()\n",
    "if value >='a' and value<='b':\n",
    "    print(\"lower case\")\n",
    "elif value >='A' and value<=\"z\":\n",
    "    print('upper case')\n",
    "elif value >='0' and value<='9':\n",
    "    print('digit')\n",
    "else:\n",
    "    print(\"symbol\")\n",
    "print(value)"
   ]
  },
  {
   "cell_type": "code",
   "execution_count": 5,
   "metadata": {},
   "outputs": [
    {
     "name": "stdout",
     "output_type": "stream",
     "text": [
      "symbol\n",
      "#\n"
     ]
    }
   ],
   "source": [
    "value=input()\n",
    "if value >='a' and value<='b':\n",
    "    print(\"lower case\")\n",
    "elif value >='A' and value<=\"z\":\n",
    "    print('upper case')\n",
    "elif value >='0' and value<='9':\n",
    "    print('digit')\n",
    "else:\n",
    "    print(\"symbol\")\n",
    "print(value)"
   ]
  },
  {
   "cell_type": "code",
   "execution_count": 6,
   "metadata": {},
   "outputs": [
    {
     "name": "stdout",
     "output_type": "stream",
     "text": [
      "upper case\n",
      "S\n"
     ]
    }
   ],
   "source": [
    "value=input()\n",
    "if value >='a' and value<='b':\n",
    "    print(\"lower case\")\n",
    "elif value >='A' and value<=\"z\":\n",
    "    print('upper case')\n",
    "elif value >='0' and value<='9':\n",
    "    print('digit')\n",
    "else:\n",
    "    print(\"symbol\")\n",
    "print(value)"
   ]
  },
  {
   "cell_type": "code",
   "execution_count": 9,
   "metadata": {},
   "outputs": [
    {
     "name": "stdout",
     "output_type": "stream",
     "text": [
      "digit\n",
      "5\n"
     ]
    }
   ],
   "source": [
    "ch=input()\n",
    "if ch>='a' and ch<='z':\n",
    "    print(chr(ord(ch)-32))\n",
    "elif ch>='0' and ch<='9':\n",
    "    print('digit')\n",
    "print(ch)"
   ]
  },
  {
   "cell_type": "code",
   "execution_count": 10,
   "metadata": {},
   "outputs": [
    {
     "name": "stdout",
     "output_type": "stream",
     "text": [
      "s\n",
      "S\n"
     ]
    }
   ],
   "source": [
    "ch=input()\n",
    "if ch>='a' and ch<='z':\n",
    "    print(chr(ord(ch)-32))\n",
    "elif ch>='A' and ch<='Z':\n",
    "    print(chr(ord(ch)+32))\n",
    "elif ch>='0' and ch<='9':\n",
    "    print('digit')\n",
    "print(ch)"
   ]
  },
  {
   "cell_type": "code",
   "execution_count": 11,
   "metadata": {},
   "outputs": [
    {
     "name": "stdout",
     "output_type": "stream",
     "text": [
      "S\n",
      "s\n"
     ]
    }
   ],
   "source": [
    "ch=input()\n",
    "if ch>='a' and ch<='z':\n",
    "    print(chr(ord(ch)-32))\n",
    "elif ch>='A' and ch<='Z':\n",
    "    print(chr(ord(ch)+32))\n",
    "elif ch>='0' and ch<='9':\n",
    "    print('digit')\n",
    "print(ch)"
   ]
  },
  {
   "cell_type": "code",
   "execution_count": 26,
   "metadata": {},
   "outputs": [
    {
     "name": "stdout",
     "output_type": "stream",
     "text": [
      "negative\n"
     ]
    }
   ],
   "source": [
    "l=[1,2,-6,4]\n",
    "l1=len(l)//2\n",
    "if (l[l1]>=0):\n",
    "    print('positive')\n",
    "elif (l[l1]<=0):\n",
    "    print('negative')\n",
    "else:\n",
    "    print('zero')"
   ]
  },
  {
   "cell_type": "code",
   "execution_count": 13,
   "metadata": {},
   "outputs": [
    {
     "name": "stdout",
     "output_type": "stream",
     "text": [
      "83\n"
     ]
    }
   ],
   "source": [
    "ch=input()\n",
    "if ch>='A' and ch<='Z':\n",
    "    print(ord(ch))\n",
    "else:\n",
    "    print(chr(ord(ch)-32))"
   ]
  },
  {
   "cell_type": "code",
   "execution_count": 2,
   "metadata": {},
   "outputs": [
    {
     "name": "stdout",
     "output_type": "stream",
     "text": [
      "positive\n",
      "5\n"
     ]
    }
   ],
   "source": [
    "num=int(input())\n",
    "if num>0:\n",
    "    print('positive')\n",
    "elif num<0:\n",
    "    print('negative')\n",
    "else:\n",
    "    print('zero')\n",
    "print(num)"
   ]
  },
  {
   "cell_type": "code",
   "execution_count": 4,
   "metadata": {},
   "outputs": [
    {
     "name": "stdout",
     "output_type": "stream",
     "text": [
      "zero\n"
     ]
    }
   ],
   "source": [
    "val=int(input())\n",
    "if val==0:\n",
    "    print('zero')\n",
    "elif val%2==0:\n",
    "    print('even')\n",
    "elif val%2==1:\n",
    "    print('odd')"
   ]
  },
  {
   "cell_type": "code",
   "execution_count": 5,
   "metadata": {},
   "outputs": [
    {
     "name": "stdout",
     "output_type": "stream",
     "text": [
      "digit\n"
     ]
    }
   ],
   "source": [
    "ch=input()\n",
    "if ch>='a' and ch<='z' or ch>='A' and ch<='Z':\n",
    "    print('alphabet')\n",
    "elif ch>='0' and ch<='9':\n",
    "    print('digit')\n",
    "else:\n",
    "    print('symbol')"
   ]
  },
  {
   "cell_type": "code",
   "execution_count": 6,
   "metadata": {},
   "outputs": [
    {
     "name": "stdout",
     "output_type": "stream",
     "text": [
      "lower\n"
     ]
    }
   ],
   "source": [
    "ch=input()\n",
    "if ch>='a' and ch<='z':\n",
    "    print('lower')\n",
    "elif ch>='A' and ch<='Z':\n",
    "    print('upper')"
   ]
  },
  {
   "cell_type": "code",
   "execution_count": 7,
   "metadata": {},
   "outputs": [
    {
     "name": "stdout",
     "output_type": "stream",
     "text": [
      "digit\n"
     ]
    }
   ],
   "source": [
    "ch=input()\n",
    "if ch>='a' and ch<='z':\n",
    "    print('lower')\n",
    "elif ch>='A' and ch<='Z':\n",
    "    print('upper')\n",
    "elif ch>='0' and ch<='9':\n",
    "    print('digit')"
   ]
  },
  {
   "cell_type": "code",
   "execution_count": 8,
   "metadata": {},
   "outputs": [
    {
     "name": "stdout",
     "output_type": "stream",
     "text": [
      "BUZZ\n"
     ]
    }
   ],
   "source": [
    "i=int(input())\n",
    "if i%3==0 and i%5==0:\n",
    "    print('FIZZBUZZ')\n",
    "elif i%3==0:\n",
    "    print('FIZZ')\n",
    "elif i%5==0:\n",
    "    print('BUZZ')\n",
    "else :\n",
    "    print(i)"
   ]
  },
  {
   "cell_type": "code",
   "execution_count": 9,
   "metadata": {},
   "outputs": [
    {
     "name": "stdout",
     "output_type": "stream",
     "text": [
      "FIZZBUZZ\n"
     ]
    }
   ],
   "source": [
    "i=int(input())\n",
    "if i%3==0 and i%5==0:\n",
    "    print('FIZZBUZZ')\n",
    "elif i%3==0:\n",
    "    print('FIZZ')\n",
    "elif i%5==0:\n",
    "    print('BUZZ')\n",
    "else :\n",
    "    print(i)"
   ]
  },
  {
   "cell_type": "markdown",
   "metadata": {},
   "source": [
    "NESTED IF :"
   ]
  },
  {
   "cell_type": "code",
   "execution_count": 10,
   "metadata": {},
   "outputs": [
    {
     "name": "stdout",
     "output_type": "stream",
     "text": [
      "lesser then\n"
     ]
    }
   ],
   "source": [
    "num=int(input())\n",
    "if num>0:\n",
    "    if num%2==0:\n",
    "        print('even')\n",
    "    else:\n",
    "        print('odd')\n",
    "elif num<0:\n",
    "    if num>-5:\n",
    "        print('greater')\n",
    "    else:\n",
    "        print('lesser then')"
   ]
  },
  {
   "cell_type": "code",
   "execution_count": 13,
   "metadata": {},
   "outputs": [
    {
     "name": "stdout",
     "output_type": "stream",
     "text": [
      "A\n"
     ]
    }
   ],
   "source": [
    "var=input()\n",
    "if var>='A' and var<='Z':\n",
    "    if ord(var)%2==0:\n",
    "        print('even')\n",
    "    else:\n",
    "        print('odd')\n",
    "elif var>='a' and var<='z':\n",
    "    print(chr(ord(var)-32))\n",
    "elif var>='0' and var<='9':\n",
    "    print(var**2)"
   ]
  },
  {
   "cell_type": "code",
   "execution_count": 14,
   "metadata": {},
   "outputs": [
    {
     "name": "stdout",
     "output_type": "stream",
     "text": [
      "different\n"
     ]
    }
   ],
   "source": [
    "st=input()\n",
    "if len(st)>3:\n",
    "    if st[0]==st[-1]:\n",
    "        print('equal')\n",
    "    else:\n",
    "        print('different')\n",
    "elif len(st)<2:\n",
    "    if st[0]>='A' and st[0]<='Z':\n",
    "        print('upper')\n",
    "    if st[0]>='a' and st[0]<='z':\n",
    "        print('lower')"
   ]
  },
  {
   "cell_type": "code",
   "execution_count": null,
   "metadata": {},
   "outputs": [],
   "source": [
    "st=input()\n",
    "mi=len(st)//2\n",
    "if len(st)==5:\n",
    "    if st(mi)>='a' and st(mi)<='z':\n",
    "        print('lower')\n",
    "    elif st(mi)>='A' and st(mi)<='Z':\n",
    "        print('upper')\n",
    "    elif st(mi)>='0' and st(mi)<='9':\n",
    "        print('digit')\n",
    "elif len(st)==2:\n",
    "    if st[0]==st[-1]:\n",
    "        print('equal')\n",
    "    else:\n",
    "        print('not equall')"
   ]
  }
 ],
 "metadata": {
  "kernelspec": {
   "display_name": "Python 3",
   "language": "python",
   "name": "python3"
  },
  "language_info": {
   "codemirror_mode": {
    "name": "ipython",
    "version": 3
   },
   "file_extension": ".py",
   "mimetype": "text/x-python",
   "name": "python",
   "nbconvert_exporter": "python",
   "pygments_lexer": "ipython3",
   "version": "3.12.1"
  }
 },
 "nbformat": 4,
 "nbformat_minor": 2
}
