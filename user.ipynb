{
 "cells": [
  {
   "cell_type": "markdown",
   "metadata": {},
   "source": [
    "HOW TO GET INPUT DATA:"
   ]
  },
  {
   "cell_type": "code",
   "execution_count": 2,
   "metadata": {},
   "outputs": [
    {
     "name": "stdout",
     "output_type": "stream",
     "text": [
      "hello: ram\n",
      "<class 'str'>\n"
     ]
    }
   ],
   "source": [
    "name=input()\n",
    "print('hello:',name)\n",
    "print(type(name))"
   ]
  },
  {
   "cell_type": "markdown",
   "metadata": {},
   "source": [
    "HOW TO GET INT DATA:"
   ]
  },
  {
   "cell_type": "code",
   "execution_count": 3,
   "metadata": {},
   "outputs": [
    {
     "name": "stdout",
     "output_type": "stream",
     "text": [
      "23\n",
      "<class 'int'>\n"
     ]
    }
   ],
   "source": [
    "name=int(input())\n",
    "print(name)\n",
    "print(type(name))\n"
   ]
  },
  {
   "cell_type": "markdown",
   "metadata": {},
   "source": [
    "HOW TO GET FLOAT:"
   ]
  },
  {
   "cell_type": "code",
   "execution_count": 4,
   "metadata": {},
   "outputs": [
    {
     "name": "stdout",
     "output_type": "stream",
     "text": [
      "5.5\n",
      "<class 'float'>\n"
     ]
    }
   ],
   "source": [
    "name=float(input())\n",
    "print(name)\n",
    "print(type(name))"
   ]
  },
  {
   "cell_type": "markdown",
   "metadata": {},
   "source": [
    "HOW TO GET COMPLEX :"
   ]
  },
  {
   "cell_type": "code",
   "execution_count": 5,
   "metadata": {},
   "outputs": [
    {
     "name": "stdout",
     "output_type": "stream",
     "text": [
      "(2+9j)\n",
      "<class 'complex'>\n"
     ]
    }
   ],
   "source": [
    "name=complex(input())\n",
    "print(name)\n",
    "print(type(name))"
   ]
  },
  {
   "cell_type": "markdown",
   "metadata": {},
   "source": [
    "HOW TO GET BOOLEAN:"
   ]
  },
  {
   "cell_type": "code",
   "execution_count": 9,
   "metadata": {},
   "outputs": [
    {
     "name": "stdout",
     "output_type": "stream",
     "text": [
      "True\n",
      "<class 'bool'>\n"
     ]
    }
   ],
   "source": [
    "name=bool(input())\n",
    "print(name)\n",
    "print(type(name))\n"
   ]
  },
  {
   "cell_type": "markdown",
   "metadata": {},
   "source": [
    "                                         DECISIONAL STATEMENTS:\n",
    "                                        ---- if else -----"
   ]
  },
  {
   "cell_type": "code",
   "execution_count": 7,
   "metadata": {},
   "outputs": [
    {
     "name": "stdout",
     "output_type": "stream",
     "text": [
      "144\n",
      "program ends\n"
     ]
    }
   ],
   "source": [
    "num=int(input())\n",
    "if num>10:\n",
    "    print(num**2)\n",
    "else:\n",
    "    print(num-2)\n",
    "print('program ends')"
   ]
  },
  {
   "cell_type": "code",
   "execution_count": 8,
   "metadata": {},
   "outputs": [
    {
     "name": "stdout",
     "output_type": "stream",
     "text": [
      "7\n",
      "program ends\n"
     ]
    }
   ],
   "source": [
    "num=int(input())\n",
    "if num>10:\n",
    "    print(num**2)\n",
    "else:\n",
    "    print(num-2)\n",
    "print('program ends')"
   ]
  },
  {
   "cell_type": "markdown",
   "metadata": {},
   "source": [
    "                                        ASSINGMENT :"
   ]
  },
  {
   "cell_type": "code",
   "execution_count": 3,
   "metadata": {},
   "outputs": [
    {
     "name": "stdout",
     "output_type": "stream",
     "text": [
      "HELLO GOOD MORNING\n"
     ]
    }
   ],
   "source": [
    "var=input()\n",
    "var1=ord(var)\n",
    "if (var>='A' and var<='z' or var>='a' and var<='z') and (var1%2==0) :\n",
    "    print(\"HELLO GOOD MORNING\")\n",
    "else:\n",
    "    print('tata tata! good bye!')"
   ]
  },
  {
   "cell_type": "code",
   "execution_count": 1,
   "metadata": {},
   "outputs": [
    {
     "name": "stdout",
     "output_type": "stream",
     "text": [
      "tata tata! good bye!\n"
     ]
    }
   ],
   "source": [
    "var=input()\n",
    "var1=ord(var)\n",
    "if (var>='A' and var<='z' or var>='a' and var<='z') and (var1%2==0) :\n",
    "    print(\"HELLO GOOD MORNING\")\n",
    "else:\n",
    "    print('tata tata! good bye!')"
   ]
  },
  {
   "cell_type": "code",
   "execution_count": 16,
   "metadata": {},
   "outputs": [
    {
     "name": "stdout",
     "output_type": "stream",
     "text": [
      "29\n",
      "19\n"
     ]
    }
   ],
   "source": [
    "num=int(input())\n",
    "value=num%10\n",
    "if (num>5 and num<25) and value%3==0:\n",
    "    print (num+10)\n",
    "else:\n",
    "    print(num-10)\n",
    "print(num)"
   ]
  },
  {
   "cell_type": "code",
   "execution_count": 17,
   "metadata": {},
   "outputs": [
    {
     "name": "stdout",
     "output_type": "stream",
     "text": [
      "12\n",
      "22\n"
     ]
    }
   ],
   "source": [
    "num=int(input())\n",
    "value=num%10\n",
    "if (num>5 and num<25) and value%3==0:\n",
    "    print (num+10)\n",
    "else:\n",
    "    print(num-10)\n",
    "print(num)"
   ]
  },
  {
   "cell_type": "code",
   "execution_count": 20,
   "metadata": {},
   "outputs": [
    {
     "name": "stdout",
     "output_type": "stream",
     "text": [
      "even\n",
      "24\n"
     ]
    }
   ],
   "source": [
    "num=int(input())\n",
    "if(num%2==0) :\n",
    "    print('even')\n",
    "else:\n",
    "    print('odd')\n",
    "print(num)\n",
    "\n",
    "\n"
   ]
  },
  {
   "cell_type": "code",
   "execution_count": 21,
   "metadata": {},
   "outputs": [
    {
     "name": "stdout",
     "output_type": "stream",
     "text": [
      "odd\n",
      "21\n"
     ]
    }
   ],
   "source": [
    "num=int(input())\n",
    "if(num%2==0) :\n",
    "    print('even')\n",
    "else:\n",
    "    print('odd')\n",
    "print(num)\n"
   ]
  },
  {
   "cell_type": "code",
   "execution_count": 23,
   "metadata": {},
   "outputs": [
    {
     "name": "stdout",
     "output_type": "stream",
     "text": [
      "lower case\n",
      "a\n"
     ]
    }
   ],
   "source": [
    "name=input()\n",
    "if name>='a' and name<='z' :\n",
    "    print('lower case')\n",
    "else:\n",
    "    print('upper casse')\n",
    "print(name)\n"
   ]
  },
  {
   "cell_type": "code",
   "execution_count": 24,
   "metadata": {},
   "outputs": [
    {
     "name": "stdout",
     "output_type": "stream",
     "text": [
      "upper casse\n",
      "A\n"
     ]
    }
   ],
   "source": [
    "name=input()\n",
    "if name>='a' and name<='z' :\n",
    "    print('lower case')\n",
    "else:\n",
    "    print('upper casse')\n",
    "print(name)"
   ]
  },
  {
   "cell_type": "code",
   "execution_count": 25,
   "metadata": {},
   "outputs": [
    {
     "name": "stdout",
     "output_type": "stream",
     "text": [
      "alphabet\n",
      "A\n"
     ]
    }
   ],
   "source": [
    "name=input()\n",
    "if name>='a' and name<='z' or name>='A' and name<='Z' :\n",
    "    print(\"alphabet\")\n",
    "else:\n",
    "    print('not an alphabet')\n",
    "print(name)"
   ]
  },
  {
   "cell_type": "code",
   "execution_count": 26,
   "metadata": {},
   "outputs": [
    {
     "name": "stdout",
     "output_type": "stream",
     "text": [
      "not an alphabet\n",
      "5\n"
     ]
    }
   ],
   "source": [
    "name=input()\n",
    "if name>='a' and name<='z' or name>='A' and name<='Z' :\n",
    "    print(\"alphabet\")\n",
    "else:\n",
    "    print('not an alphabet')\n",
    "print(name)"
   ]
  },
  {
   "cell_type": "code",
   "execution_count": 30,
   "metadata": {},
   "outputs": [
    {
     "name": "stdout",
     "output_type": "stream",
     "text": [
      "digit\n",
      "8\n"
     ]
    }
   ],
   "source": [
    "a=int(input())\n",
    "if a>=0 and a<=9 :\n",
    "    print('digit')\n",
    "else :\n",
    "    print('not a digit')\n",
    "print(a)"
   ]
  },
  {
   "cell_type": "code",
   "execution_count": 46,
   "metadata": {},
   "outputs": [
    {
     "name": "stdout",
     "output_type": "stream",
     "text": [
      "it is a symbol\n",
      "*\n"
     ]
    }
   ],
   "source": [
    "var=input()\n",
    "if ((var>='0' and var<='9') or (var>='a' and var<='z') or (var>='A' and var<='Z')):\n",
    "    print(\"it is not symbol\")\n",
    "else:\n",
    "    print('it is a symbol')\n",
    "print(var)"
   ]
  },
  {
   "cell_type": "code",
   "execution_count": 43,
   "metadata": {},
   "outputs": [
    {
     "name": "stdout",
     "output_type": "stream",
     "text": [
      "divisible by both\n",
      "36\n"
     ]
    }
   ],
   "source": [
    "num=int(input())\n",
    "if num%2==0 and num%3==0:\n",
    "    print('divisible by both')\n",
    "else:\n",
    "    print('not divisible by both')\n",
    "print(num)"
   ]
  },
  {
   "cell_type": "code",
   "execution_count": 45,
   "metadata": {},
   "outputs": [
    {
     "name": "stdout",
     "output_type": "stream",
     "text": [
      "98\n",
      "b\n"
     ]
    }
   ],
   "source": [
    "var=input()\n",
    "if var>='a' and var<='b' or var>='A' and var<='Z':\n",
    "    print(ord(var))\n",
    "else:\n",
    "    print(chr(var))\n",
    "print(var)"
   ]
  },
  {
   "cell_type": "code",
   "execution_count": 48,
   "metadata": {},
   "outputs": [
    {
     "name": "stdout",
     "output_type": "stream",
     "text": [
      "come on wednesday\n",
      "%\n",
      "37\n"
     ]
    }
   ],
   "source": [
    "sym=input()\n",
    "if ord(sym)>70:\n",
    "    print(\"HAPPY DIWALI\")\n",
    "else:\n",
    "    print('come on wednesday')\n",
    "print(sym)\n",
    "print(ord(sym))"
   ]
  },
  {
   "cell_type": "code",
   "execution_count": 50,
   "metadata": {},
   "outputs": [
    {
     "name": "stdout",
     "output_type": "stream",
     "text": [
      "not a vowel\n",
      "s\n"
     ]
    }
   ],
   "source": [
    "Given=input()\n",
    "if Given in 'aeiou':\n",
    "    print('vowel')\n",
    "else:\n",
    "    print('not a vowel')\n",
    "print(Given)"
   ]
  },
  {
   "cell_type": "code",
   "execution_count": 51,
   "metadata": {},
   "outputs": [
    {
     "name": "stdout",
     "output_type": "stream",
     "text": [
      "vowel\n",
      "e\n"
     ]
    }
   ],
   "source": [
    "Given=input()\n",
    "if Given in 'aeiou':\n",
    "    print('vowel')\n",
    "else:\n",
    "    print('not a vowel')\n",
    "print(Given)"
   ]
  },
  {
   "cell_type": "code",
   "execution_count": 53,
   "metadata": {},
   "outputs": [
    {
     "name": "stdout",
     "output_type": "stream",
     "text": [
      "consonant\n",
      "l\n"
     ]
    }
   ],
   "source": [
    "mine=input()\n",
    "if mine not in 'aeiou':\n",
    "    print('consonant')\n",
    "else:\n",
    "    print('not a consonant')\n",
    "print(mine)"
   ]
  },
  {
   "cell_type": "code",
   "execution_count": 54,
   "metadata": {},
   "outputs": [
    {
     "name": "stdout",
     "output_type": "stream",
     "text": [
      "not a consonant\n",
      "e\n"
     ]
    }
   ],
   "source": [
    "mine=input()\n",
    "if mine not in 'aeiou':\n",
    "    print('consonant')\n",
    "else:\n",
    "    print('not a consonant')\n",
    "print(mine)"
   ]
  },
  {
   "cell_type": "code",
   "execution_count": 57,
   "metadata": {},
   "outputs": [
    {
     "name": "stdout",
     "output_type": "stream",
     "text": [
      "not greater\n",
      "5\n"
     ]
    }
   ],
   "source": [
    "num=int(input())\n",
    "if num>10:\n",
    "    print('greater')\n",
    "else:\n",
    "    print('not greater')\n",
    "print(num)"
   ]
  },
  {
   "cell_type": "code",
   "execution_count": 58,
   "metadata": {},
   "outputs": [
    {
     "name": "stdout",
     "output_type": "stream",
     "text": [
      "greater\n",
      "11\n"
     ]
    }
   ],
   "source": [
    "num=int(input())\n",
    "if num>10:\n",
    "    print('greater')\n",
    "else:\n",
    "    print('not greater')\n",
    "print(num)"
   ]
  },
  {
   "cell_type": "code",
   "execution_count": 59,
   "metadata": {},
   "outputs": [
    {
     "name": "stdout",
     "output_type": "stream",
     "text": [
      "equals\n",
      "15\n"
     ]
    }
   ],
   "source": [
    "num=int(input())\n",
    "if num==15:\n",
    "    print('equals')\n",
    "else:\n",
    "    print('not equals')\n",
    "print(num)"
   ]
  },
  {
   "cell_type": "code",
   "execution_count": 60,
   "metadata": {},
   "outputs": [
    {
     "name": "stdout",
     "output_type": "stream",
     "text": [
      "not equals\n",
      "13\n"
     ]
    }
   ],
   "source": [
    "num=int(input())\n",
    "if num==15:\n",
    "    print('equals')\n",
    "else:\n",
    "    print('not equals')\n",
    "print(num)"
   ]
  },
  {
   "cell_type": "code",
   "execution_count": 61,
   "metadata": {},
   "outputs": [
    {
     "name": "stdout",
     "output_type": "stream",
     "text": [
      "divisible\n",
      "24\n"
     ]
    }
   ],
   "source": [
    "num=int(input())\n",
    "if num%4==0:\n",
    "    print('divisible')\n",
    "else:\n",
    "    print('not divisible')\n",
    "print(num)"
   ]
  },
  {
   "cell_type": "code",
   "execution_count": 62,
   "metadata": {},
   "outputs": [
    {
     "name": "stdout",
     "output_type": "stream",
     "text": [
      "not divisible\n",
      "22\n"
     ]
    }
   ],
   "source": [
    "num=int(input())\n",
    "if num%4==0:\n",
    "    print('divisible')\n",
    "else:\n",
    "    print('not divisible')\n",
    "print(num)"
   ]
  },
  {
   "cell_type": "code",
   "execution_count": 66,
   "metadata": {},
   "outputs": [
    {
     "name": "stdout",
     "output_type": "stream",
     "text": [
      "5\n",
      "25\n"
     ]
    }
   ],
   "source": [
    "num=int(input())\n",
    "if num>21 and num<35 and num%2==0:\n",
    "    print(num*3)\n",
    "else:\n",
    "    print(num-20)\n",
    "print(num)"
   ]
  },
  {
   "cell_type": "code",
   "execution_count": 67,
   "metadata": {},
   "outputs": [
    {
     "name": "stdout",
     "output_type": "stream",
     "text": [
      "72\n",
      "24\n"
     ]
    }
   ],
   "source": [
    "num=int(input())\n",
    "if num>21 and num<35 and num%2==0:\n",
    "    print(num*3)\n",
    "else:\n",
    "    print(num-20)\n",
    "print(num)"
   ]
  }
 ],
 "metadata": {
  "kernelspec": {
   "display_name": "Python 3",
   "language": "python",
   "name": "python3"
  },
  "language_info": {
   "codemirror_mode": {
    "name": "ipython",
    "version": 3
   },
   "file_extension": ".py",
   "mimetype": "text/x-python",
   "name": "python",
   "nbconvert_exporter": "python",
   "pygments_lexer": "ipython3",
   "version": "3.12.1"
  }
 },
 "nbformat": 4,
 "nbformat_minor": 2
}
