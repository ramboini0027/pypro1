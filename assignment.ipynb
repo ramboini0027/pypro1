{
 "cells": [
  {
   "cell_type": "markdown",
   "metadata": {},
   "source": [
    "assignment:\n",
    "IF ELIF STATEMENT:\n",
    "-----------------"
   ]
  },
  {
   "cell_type": "code",
   "execution_count": 3,
   "metadata": {},
   "outputs": [
    {
     "name": "stdout",
     "output_type": "stream",
     "text": [
      "neutral 0\n"
     ]
    }
   ],
   "source": [
    "#1\n",
    "a=int(input())\n",
    "if a==0:\n",
    "    print('neutral',a)\n",
    "elif a<0:\n",
    "    print('negative',a)\n",
    "elif a>0:\n",
    "    print('positve',a)"
   ]
  },
  {
   "cell_type": "code",
   "execution_count": 13,
   "metadata": {},
   "outputs": [
    {
     "name": "stdout",
     "output_type": "stream",
     "text": [
      "greatest 999\n"
     ]
    }
   ],
   "source": [
    "#2\n",
    "a=int(input())\n",
    "b=int(input())\n",
    "c=int(input())\n",
    "if a>b>c:\n",
    "    print('greatest',a)\n",
    "elif b>c>a:\n",
    "    print('greatest',b)\n",
    "elif c>a>b:\n",
    "    print('greatest',c)"
   ]
  },
  {
   "cell_type": "code",
   "execution_count": 16,
   "metadata": {},
   "outputs": [
    {
     "name": "stdout",
     "output_type": "stream",
     "text": [
      "FIZZBUZZ\n"
     ]
    }
   ],
   "source": [
    "#3\n",
    "a=int(input())\n",
    "if a%3==0 and a%5==0:\n",
    "    print('FIZZBUZZ')\n",
    "elif a%5==0:\n",
    "    print('BUZZ')\n",
    "elif a%3==0 :\n",
    "    print('FIZZ')"
   ]
  },
  {
   "cell_type": "code",
   "execution_count": 30,
   "metadata": {},
   "outputs": [
    {
     "name": "stdout",
     "output_type": "stream",
     "text": [
      "8 >= 5\n"
     ]
    }
   ],
   "source": [
    "#4\n",
    "num1=int(input())\n",
    "num2=int(input())\n",
    "if num1<=num2:\n",
    "    print(num1,\"<=\",num2)\n",
    "elif  num1>=num2:\n",
    "    print(num1,\">=\",num2)\n",
    "elif  num1<num2:\n",
    "    print(num1,\"<\",num2)\n",
    "elif  num1>num2:\n",
    "    print(num1,\">\",num2)\n",
    "    "
   ]
  },
  {
   "cell_type": "code",
   "execution_count": 29,
   "metadata": {},
   "outputs": [
    {
     "name": "stdout",
     "output_type": "stream",
     "text": [
      "354\n",
      "3 digit num\n"
     ]
    }
   ],
   "source": [
    "#5\n",
    "num=int(input())\n",
    "print(num)\n",
    "if num>=0 and num<=9:\n",
    "    print('singel digit')\n",
    "elif num>=10 and num<=99:\n",
    "    print('Double digit')\n",
    "elif num>=100 and num<1000:\n",
    "    print('3 digit num')\n",
    "else:\n",
    "    print('more than 3 digit')"
   ]
  },
  {
   "cell_type": "code",
   "execution_count": 2,
   "metadata": {},
   "outputs": [
    {
     "name": "stdout",
     "output_type": "stream",
     "text": [
      "alphabet K\n"
     ]
    }
   ],
   "source": [
    "#6\n",
    "ch=input()\n",
    "if 'A'<=ch<='Z' or 'a'<=ch<='z':\n",
    "    print('alphabet',ch)\n",
    "elif ch>='0' and ch <='9':\n",
    "    print('ascii number',ord(ch))\n",
    "elif not 'A'<=ch<='Z' or 'a'<=ch<='z' or ch>='0' and ch <='9':\n",
    "    print('special character',ch)\n",
    "else:\n",
    "    print('invalid')"
   ]
  },
  {
   "cell_type": "code",
   "execution_count": 38,
   "metadata": {},
   "outputs": [
    {
     "name": "stdout",
     "output_type": "stream",
     "text": [
      "One\n"
     ]
    }
   ],
   "source": [
    "#7\n",
    "number=int(input())\n",
    "if number == 1:\n",
    "        print (\"One\")\n",
    "elif number == 2:\n",
    "        print (\"Two\")\n",
    "elif number == 3:\n",
    "        print(\"Three\")\n",
    "elif number == 4:\n",
    "        print (\"Four\")\n",
    "elif number == 5:\n",
    "        print( \"Five\")\n",
    "else:\n",
    "        print( \"Number out of range\")"
   ]
  },
  {
   "cell_type": "code",
   "execution_count": 39,
   "metadata": {},
   "outputs": [
    {
     "name": "stdout",
     "output_type": "stream",
     "text": [
      "C\n",
      "upper case\n"
     ]
    }
   ],
   "source": [
    "#8\n",
    "ch=input()\n",
    "print(ch)\n",
    "if ch>='A' and ch<='Z':\n",
    "    print('upper case')\n",
    "elif ch>='a' and ch<='z':\n",
    "    print('lower case')\n",
    "elif ch>='0' and ch<='9':\n",
    "    print('number')\n",
    "else:\n",
    "    print('symbol')"
   ]
  },
  {
   "cell_type": "code",
   "execution_count": 41,
   "metadata": {},
   "outputs": [
    {
     "name": "stdout",
     "output_type": "stream",
     "text": [
      "6\n",
      "7\n",
      "5\n"
     ]
    }
   ],
   "source": [
    "#9\n",
    "ch=input()\n",
    "print(ch)\n",
    "if ch>='A' and ch<='Z':\n",
    "    ch1=ord(ch)+32\n",
    "    print(chr(ch1))\n",
    "elif ch>='a' and ch<='z':\n",
    "      ch1=ord(ch)-32\n",
    "      print(chr(ch1))\n",
    "else:\n",
    "     print(chr(ord(ch)+1))\n",
    "     print(chr(ord(ch)-1))\n",
    "     "
   ]
  },
  {
   "cell_type": "code",
   "execution_count": 42,
   "metadata": {},
   "outputs": [
    {
     "name": "stdout",
     "output_type": "stream",
     "text": [
      "^\n",
      "special character\n"
     ]
    }
   ],
   "source": [
    "#10\n",
    "ch=input()\n",
    "print(ch)\n",
    "if ch>='A' and ch<='Z':\n",
    "    print('upper case')\n",
    "elif ch>='a' and ch<='z':\n",
    "    print('lower case')\n",
    "elif ch>='0' and ch<='9':\n",
    "    print('numeric')\n",
    "else:\n",
    "    print('special character')"
   ]
  },
  {
   "cell_type": "code",
   "execution_count": 43,
   "metadata": {},
   "outputs": [
    {
     "name": "stdout",
     "output_type": "stream",
     "text": [
      "55\n",
      "third grade\n"
     ]
    }
   ],
   "source": [
    "#11\n",
    "m=int(input())\n",
    "print(m)\n",
    "if m>90 and m<=100:\n",
    "    print('first grade')\n",
    "elif m>80 and m<90:\n",
    "    print('second grade')\n",
    "elif m>=35 and m<80:\n",
    "    print('third grade')\n",
    "else:\n",
    "    print('fail')"
   ]
  },
  {
   "cell_type": "code",
   "execution_count": 44,
   "metadata": {},
   "outputs": [
    {
     "name": "stdout",
     "output_type": "stream",
     "text": [
      "6 8 *\n",
      "48\n"
     ]
    }
   ],
   "source": [
    "#12\n",
    "a=int(input())\n",
    "b=int(input())\n",
    "op=input()\n",
    "print(a,b,op)\n",
    "if op =='+':\n",
    "    print(a+b)\n",
    "elif op =='-':\n",
    "    print(a-b)\n",
    "elif op =='*':\n",
    "    print(a*b)\n",
    "elif op =='/':\n",
    "    print(a/b)\n",
    "elif op =='//':\n",
    "    print(a//b)\n",
    "elif op =='%':\n",
    "    print(a%b)"
   ]
  },
  {
   "cell_type": "code",
   "execution_count": 45,
   "metadata": {},
   "outputs": [
    {
     "name": "stdout",
     "output_type": "stream",
     "text": [
      "65\n",
      "Double digit\n"
     ]
    }
   ],
   "source": [
    "#13\n",
    "num=int(input())\n",
    "print(num)\n",
    "if num>=0 and num<=9:\n",
    "    print('singel digit')\n",
    "elif num>=10 and num<=99:\n",
    "    print('Double digit')\n",
    "elif num>=100 and num<=1000:\n",
    "    print('3 digit num')\n",
    "else:\n",
    "    print('more than 3 digit')"
   ]
  },
  {
   "cell_type": "code",
   "execution_count": 7,
   "metadata": {},
   "outputs": [
    {
     "name": "stdout",
     "output_type": "stream",
     "text": [
      "{'a': 97}\n"
     ]
    }
   ],
   "source": [
    "#14\n",
    "v='ram'\n",
    "n=input()\n",
    "if type(v)==list:\n",
    "    mid=len(v)//2\n",
    "    new=v[:mid]+[n]+v[mid:]\n",
    "    print(new)\n",
    "elif type(v)==tuple:\n",
    "    new=(n)+v[0:]\n",
    "    print(new)\n",
    "elif type(v)==set:\n",
    "    v.add(n)\n",
    "    print(v)\n",
    "else:\n",
    "    d={n:ord(n)}\n",
    "    print(d)"
   ]
  },
  {
   "cell_type": "code",
   "execution_count": 20,
   "metadata": {},
   "outputs": [
    {
     "name": "stdout",
     "output_type": "stream",
     "text": [
      "anil\n",
      "lani\n"
     ]
    }
   ],
   "source": [
    "#15\n",
    "ch=input()\n",
    "if ch==str(ch):\n",
    "    l=ch[-1]\n",
    "    a=l+ch[:-1]\n",
    "    print(ch)\n",
    "    print(a)\n",
    "elif ch==int(ch):\n",
    "        print(ch/5)\n",
    "elif ch==float(ch):\n",
    "      print(ch|15)\n",
    "else:\n",
    "      print(list(ch))\n",
    "      "
   ]
  },
  {
   "cell_type": "code",
   "execution_count": 9,
   "metadata": {},
   "outputs": [
    {
     "name": "stdout",
     "output_type": "stream",
     "text": [
      "invalid input\n"
     ]
    }
   ],
   "source": [
    "#16\n",
    "ch=input()\n",
    "if ch>='A' and ch<='Z':\n",
    "    var=chr(ord(ch)+32)\n",
    "    print(var+chr(ord(ch)+1))\n",
    "elif int(ch)<=ord('Z') and int(ch)>=ord('A') or int(ch)<=ord('z') and int(ch)>=ord('a') or int(ch)<=ord('9') and int(ch)>=ord('0'):\n",
    "    ch1=int(ch)\n",
    "    print(ch1)\n",
    "    print(ch1-6)\n",
    "    print(str(ch1))\n",
    "else:\n",
    "    print('invalid input')"
   ]
  },
  {
   "cell_type": "markdown",
   "metadata": {},
   "source": [
    "NESTED IF :\n",
    "--------------"
   ]
  },
  {
   "cell_type": "code",
   "execution_count": 12,
   "metadata": {},
   "outputs": [
    {
     "name": "stdout",
     "output_type": "stream",
     "text": [
      "area of circle\n"
     ]
    }
   ],
   "source": [
    "#17\n",
    "num=int(input())\n",
    "if num%2==0:\n",
    "    if num%4==0:\n",
    "        print(num**2)\n",
    "if num%2==1:\n",
    "    if num%3==0 and num%7==0:\n",
    "        print('area of circle')"
   ]
  },
  {
   "cell_type": "code",
   "execution_count": 13,
   "metadata": {},
   "outputs": [
    {
     "name": "stdout",
     "output_type": "stream",
     "text": [
      "r\n"
     ]
    }
   ],
   "source": [
    "#18\n",
    "ch1=input()\n",
    "c=input()\n",
    "if ch1 in c:\n",
    "    if ch1>='A' and ch1<='Z':\n",
    "        print(chr(ord(ch1)+32))\n",
    "    elif ch1>='a' and ch1<='z':\n",
    "      ch3=ord(ch1)-32\n",
    "      print(chr(ch3))\n",
    "if ch1 not in c:\n",
    "     print('invalid')\n",
    "    "
   ]
  },
  {
   "cell_type": "code",
   "execution_count": 68,
   "metadata": {},
   "outputs": [
    {
     "name": "stdout",
     "output_type": "stream",
     "text": [
      "ads\n",
      "asdasd\n",
      "a\n"
     ]
    }
   ],
   "source": [
    "#19\n",
    "a=input()\n",
    "st=input()\n",
    "if a in st:\n",
    "    if len(st)%2==0:\n",
    "        print(st[0::2])\n",
    "    elif len(st)%2==1:\n",
    "        print(st[1::2])\n",
    "else:\n",
    "    print(st)\n",
    "print(st)\n",
    "print(a)"
   ]
  },
  {
   "cell_type": "code",
   "execution_count": 19,
   "metadata": {},
   "outputs": [
    {
     "name": "stdout",
     "output_type": "stream",
     "text": [
      "4\n"
     ]
    }
   ],
   "source": [
    "#20\n",
    "ch=input()\n",
    "ch1=input()\n",
    "if ch>='a' and ch<='z' or ch>='A' and ch<='Z':\n",
    "    if ch>='A' and ch<='Z':\n",
    "        if ch in ch1:\n",
    "            print(chr(ord(ch)+1))\n",
    "    elif ch>='a' and ch<='z':\n",
    "        print(chr(ord(ch)-32))\n",
    "else:\n",
    "     print(ch)\n",
    "\n"
   ]
  },
  {
   "cell_type": "code",
   "execution_count": 12,
   "metadata": {},
   "outputs": [
    {
     "name": "stdout",
     "output_type": "stream",
     "text": [
      "-5\n"
     ]
    }
   ],
   "source": [
    "#21\n",
    "if type(v) not in [int, float, complex,bool, None]:\n",
    "    if type(v) in [str, list,dict,set]:\n",
    "        if type(v)==list:\n",
    "            mid=len(v)//2\n",
    "            v[mid]=n\n",
    "            print(v)\n",
    "        elif type(v)==dict:\n",
    "            print(v)\n",
    "        elif type(v)==set:\n",
    "            new=list(v)\n",
    "            print(new[0])\n",
    "            print(new[-1])\n",
    "    else:\n",
    "        mu=list(v)\n",
    "        swap=mu[-1]+mu[1:-1]+mu[0]\n",
    "        print(swap)\n",
    "else:\n",
    "    print(~v)\n"
   ]
  }
 ],
 "metadata": {
  "kernelspec": {
   "display_name": "Python 3",
   "language": "python",
   "name": "python3"
  },
  "language_info": {
   "codemirror_mode": {
    "name": "ipython",
    "version": 3
   },
   "file_extension": ".py",
   "mimetype": "text/x-python",
   "name": "python",
   "nbconvert_exporter": "python",
   "pygments_lexer": "ipython3",
   "version": "3.12.1"
  }
 },
 "nbformat": 4,
 "nbformat_minor": 2
}
