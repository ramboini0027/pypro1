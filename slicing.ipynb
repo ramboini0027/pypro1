{
 "cells": [
  {
   "cell_type": "code",
   "execution_count": 44,
   "metadata": {},
   "outputs": [
    {
     "name": "stdout",
     "output_type": "stream",
     "text": [
      "[1, 2]\n",
      "[3, 'jack sparow']\n",
      "wayne\n",
      "city\n",
      "['manchester city', 'wayne rooney']\n",
      "[3, 2, 1]\n",
      "['manchester city', 'jack sparow']\n",
      "['wayne rooney', 3, 1]\n",
      "spa\n",
      "roo\n",
      "ytic\n",
      "jack\n",
      "jk\n",
      "roe\n",
      "woraps kcaj\n",
      "saow\n"
     ]
    }
   ],
   "source": [
    "l=[1,2,3,'jack sparow','wayne rooney','manchester city']\n",
    "a=l[4][0:5]\n",
    "b=l[5][-4::1]\n",
    "c=l[3][5:8]\n",
    "d=l[4][6:9]\n",
    "e=l[5][-1:-5:-1]\n",
    "f=l[3][0:4]\n",
    "g=l[3][0:4:3]\n",
    "h=l[4][6:11:2]\n",
    "i=l[3][ : : -1]\n",
    "j=l[3][5:8:2]\n",
    "k=l[3][9: ]\n",
    "print(l[0:2])\n",
    "print(l[2:4])\n",
    "print(str(a))\n",
    "print(str(b))\n",
    "print(l[5:3:-1])\n",
    "print(l[2:: -1])\n",
    "print(l[5:2:-2])\n",
    "print(l[4::-2])\n",
    "print(str(c))\n",
    "print(str(d))\n",
    "print(str(e))\n",
    "print(str(f))\n",
    "print(str(g))\n",
    "print(str(h))\n",
    "print(str(i))\n",
    "print(str(j+k))"
   ]
  },
  {
   "cell_type": "markdown",
   "metadata": {},
   "source": [
    "SLICING:\n",
    "WITH OT STEP VALUES"
   ]
  },
  {
   "cell_type": "code",
   "execution_count": 41,
   "metadata": {},
   "outputs": [
    {
     "name": "stdout",
     "output_type": "stream",
     "text": [
      "raman\n",
      "uja\n",
      "ramanujan\n",
      "amanuja\n",
      "ram\n",
      "anuja\n",
      "amanu\n",
      "ram\n",
      "ramanujan\n",
      "manujan\n",
      "raman\n",
      "rama\n",
      "jan\n",
      "manu\n",
      "\n",
      "\n",
      "u\n",
      "uja\n",
      "manuja\n"
     ]
    }
   ],
   "source": [
    "st=\"ramanujan\"\n",
    "print(st[0:5])\n",
    "print(st[5:8])\n",
    "print(st[:])\n",
    "print(st[1:8])\n",
    "print(st[0:3])\n",
    "print(st[3:-1])\n",
    "print(st[-8:-3])\n",
    "print(st[-9:-6])\n",
    "print(st[:])\n",
    "print(st[2:])\n",
    "print(st[:5])\n",
    "print(st[:4])\n",
    "print(st[6:])\n",
    "print(st[2:6])\n",
    "print(st[6:3])\n",
    "print(st[-4:5])\n",
    "print(st[-4:6])\n",
    "print(st[-4:-1])\n",
    "print(st[-7:-1])"
   ]
  },
  {
   "cell_type": "markdown",
   "metadata": {},
   "source": [
    "SLICING : \n",
    "WITH STEP VALUES"
   ]
  },
  {
   "cell_type": "code",
   "execution_count": 43,
   "metadata": {},
   "outputs": [
    {
     "name": "stdout",
     "output_type": "stream",
     "text": [
      "raman\n",
      "\n",
      "unama\n",
      "aju\n",
      "najunamar\n",
      "namar\n",
      "rmnjn\n",
      "rmnjn\n",
      "ra\n",
      "ju\n",
      "m\n",
      "num\n",
      "rnn\n"
     ]
    }
   ],
   "source": [
    "st='ramanujan'\n",
    "print(st[0:5:1])\n",
    "print(st[0:5:-1])\n",
    "print(st[5:0:-1])\n",
    "print(st[7:-5:-1])\n",
    "print(st[::-1])\n",
    "print(st[-5::-1])\n",
    "print(st[::2])\n",
    "print(st[::2])\n",
    "print(st[0:4:3])\n",
    "print(st[6:4:-1])\n",
    "print(st[-7:4:2])\n",
    "print(st[::-3])\n",
    "print(st[::4])"
   ]
  },
  {
   "cell_type": "markdown",
   "metadata": {},
   "source": [
    "EXAMPLES FOR SLICING\n",
    "---------------------"
   ]
  },
  {
   "cell_type": "code",
   "execution_count": 46,
   "metadata": {},
   "outputs": [
    {
     "name": "stdout",
     "output_type": "stream",
     "text": [
      "jor\n",
      "will\n",
      "james\n",
      "[40, 200, 300]\n",
      "{'name': 'meason mount', 'age': 24, 'club': 'chelsea'}\n",
      "['name', 'age', 'club']\n",
      "{'name': 'meason mount', 'age': 24, 'club': 'chelsea'}\n",
      "mount\n",
      "['club', 'age']\n",
      "chelsea\n",
      "42\n"
     ]
    }
   ],
   "source": [
    "l=['jordan','will blake',[300,200,40,'james willson'],{1:{'name':'meason mount', 'age':24,'club':'chelsea'}}]\n",
    "print(l[0][0:3])\n",
    "print(l[1][0:4])\n",
    "print(l[2][3][0:5])\n",
    "print(l[2][2::-1])\n",
    "print(l[3][1])\n",
    "print(list(l[3][1]))\n",
    "print(l[3][1])\n",
    "print(l[3][1]['name'][7:])\n",
    "print(list(l[3][1])[2:0:-1])\n",
    "print(l[3][1]['club'])\n",
    "print(str(l[3][1]['age'])[::-1])\n",
    "\n"
   ]
  },
  {
   "cell_type": "code",
   "execution_count": 15,
   "metadata": {},
   "outputs": [
    {
     "name": "stdout",
     "output_type": "stream",
     "text": [
      "oneplus\n",
      "elppA\n",
      "lap\n",
      "hse\n",
      "Apple\n",
      "sulp\n",
      "pp\n",
      "oneplusApple\n",
      "venu\n",
      "['Apple', 'oneplus']\n",
      "venuresh\n",
      "gopal\n",
      "ana\n",
      "amaresh\n",
      "resh\n",
      "anaconda\n"
     ]
    }
   ],
   "source": [
    "d={1:['oneplus','Apple'],2:{'name1':'venugopal','name2':'amaresh'},'a':'anaconda'}\n",
    "print(d[1][0])\n",
    "print(d[1][1][::-1])\n",
    "print(d[2]['name1'][8:5:-1])\n",
    "print(d[2]['name2'][6:3:-1])\n",
    "print(d[1][1])\n",
    "print(d[1][0][6:2:-1])\n",
    "print(d[1][1][1:3])\n",
    "print(d[1][0]+d[1][1])\n",
    "print(d[2]['name1'][0:4])\n",
    "print(d[1][::-1])\n",
    "print(d[2]['name1'][0:4]+d[2]['name2'][3:])\n",
    "print(d[2]['name1'][4:])\n",
    "print(d['a'][0:3])\n",
    "print(d[2]['name2'])\n",
    "print(d[2]['name2'][3:])\n",
    "print(d['a'])\n",
    "\n"
   ]
  },
  {
   "cell_type": "markdown",
   "metadata": {},
   "source": [
    "printing a statement n-no.of times "
   ]
  },
  {
   "cell_type": "code",
   "execution_count": 17,
   "metadata": {},
   "outputs": [
    {
     "name": "stdout",
     "output_type": "stream",
     "text": [
      "Hello! How are you?\n",
      "Hello! How are you?\n",
      "Hello! How are you?\n",
      "Hello! How are you?\n",
      "Hello! How are you?\n"
     ]
    }
   ],
   "source": [
    "a='''Hello! How are you?\n",
    "Hello! How are you?\n",
    "Hello! How are you?\n",
    "Hello! How are you?\n",
    "Hello! How are you?'''\n",
    "print(a)"
   ]
  }
 ],
 "metadata": {
  "kernelspec": {
   "display_name": "Python 3",
   "language": "python",
   "name": "python3"
  },
  "language_info": {
   "codemirror_mode": {
    "name": "ipython",
    "version": 3
   },
   "file_extension": ".py",
   "mimetype": "text/x-python",
   "name": "python",
   "nbconvert_exporter": "python",
   "pygments_lexer": "ipython3",
   "version": "3.12.1"
  }
 },
 "nbformat": 4,
 "nbformat_minor": 2
}
